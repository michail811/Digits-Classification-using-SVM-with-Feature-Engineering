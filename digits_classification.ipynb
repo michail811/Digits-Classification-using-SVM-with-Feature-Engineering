{
 "cells": [
  {
   "cell_type": "markdown",
   "metadata": {
    "id": "gdqw41SpY-on"
   },
   "source": [
    "#  PROJECT TITLE:  Digits Classification\n",
    "\n",
    "\n",
    "\n",
    "  \n",
    "\n",
    "\n",
    "\n",
    "\n",
    "\n",
    "\n",
    " "
   ]
  },
  {
   "cell_type": "markdown",
   "metadata": {},
   "source": [
    "# Import the mnist dataset"
   ]
  },
  {
   "cell_type": "code",
   "execution_count": null,
   "metadata": {
    "id": "ukM6MeG1ctqD"
   },
   "outputs": [],
   "source": [
    "from keras.datasets import mnist\n",
    "import tensorflow as tf\n",
    "#tf.test.gpu_device_name()"
   ]
  },
  {
   "cell_type": "markdown",
   "metadata": {
    "id": "HO53m7v8ZI0G"
   },
   "source": [
    "# Load and split the dataset to train set and test set"
   ]
  },
  {
   "cell_type": "code",
   "execution_count": null,
   "metadata": {
    "colab": {
     "base_uri": "https://localhost:8080/"
    },
    "id": "OLG7gxfwaETJ",
    "outputId": "6aa6b8c9-6742-47e6-da1f-38b7536ea169"
   },
   "outputs": [
    {
     "name": "stdout",
     "output_type": "stream",
     "text": [
      "Downloading data from https://storage.googleapis.com/tensorflow/tf-keras-datasets/mnist.npz\n",
      "11493376/11490434 [==============================] - 0s 0us/step\n",
      "11501568/11490434 [==============================] - 0s 0us/step\n"
     ]
    }
   ],
   "source": [
    "(train_X, train_y), (test_X, test_y) = mnist.load_data()"
   ]
  },
  {
   "cell_type": "markdown",
   "metadata": {
    "id": "WcvyBz5zZTXm"
   },
   "source": [
    "# Print the data shapes"
   ]
  },
  {
   "cell_type": "code",
   "execution_count": null,
   "metadata": {
    "colab": {
     "base_uri": "https://localhost:8080/"
    },
    "id": "7F53Brx3aWT1",
    "outputId": "3daa6490-9f3e-4833-c4f3-ce1711ca137e"
   },
   "outputs": [
    {
     "name": "stdout",
     "output_type": "stream",
     "text": [
      "X_train: (60000, 28, 28)\n",
      "Y_train: (60000,)\n",
      "X_test:  (10000, 28, 28)\n",
      "Y_test:  (10000,)\n"
     ]
    }
   ],
   "source": [
    "print('X_train: ' + str(train_X.shape))\n",
    "print('Y_train: ' + str(train_y.shape))\n",
    "print('X_test:  '  + str(test_X.shape))\n",
    "print('Y_test:  '  + str(test_y.shape))"
   ]
  },
  {
   "cell_type": "code",
   "execution_count": null,
   "metadata": {
    "colab": {
     "base_uri": "https://localhost:8080/"
    },
    "id": "M2tYTWd_ai9W",
    "outputId": "647174e6-600e-4b3f-d845-510499e9f4eb"
   },
   "outputs": [
    {
     "name": "stdout",
     "output_type": "stream",
     "text": [
      "[5 0 4 ... 5 6 8]\n"
     ]
    }
   ],
   "source": [
    "print(train_y)"
   ]
  },
  {
   "cell_type": "markdown",
   "metadata": {
    "id": "TswQ30T9aRbG"
   },
   "source": [
    "# Reshape the data from (x,28,28) to (x,784)"
   ]
  },
  {
   "cell_type": "code",
   "execution_count": null,
   "metadata": {
    "id": "3rrzwek5ajD9"
   },
   "outputs": [],
   "source": [
    "import numpy as np\n",
    "train_X = np.reshape(train_X,(60000,28*28))\n",
    "test_X = np.reshape(test_X,(10000,28*28))\n",
    "train_y=np.reshape(train_y,(60000,1))\n"
   ]
  },
  {
   "cell_type": "markdown",
   "metadata": {},
   "source": [
    "# Create an array with values (0,5,10, ... , 59995). Take the 1/5 of 60.000 samples."
   ]
  },
  {
   "cell_type": "code",
   "execution_count": null,
   "metadata": {
    "colab": {
     "base_uri": "https://localhost:8080/"
    },
    "id": "eghH8ZJaajGk",
    "outputId": "22bbdc1e-afef-4e32-e361-b622646e4229"
   },
   "outputs": [
    {
     "name": "stdout",
     "output_type": "stream",
     "text": [
      "[    0     5    10 ... 59985 59990 59995]\n",
      "(12000, 784)\n",
      "(12000, 1)\n"
     ]
    }
   ],
   "source": [
    "a=np.arange(0, train_X.shape[0],5, dtype=int)\n",
    "print(a)\n",
    "new_train_X=train_X[a,:]\n",
    "new_train_y=train_y[a,:]\n",
    "print(new_train_X.shape)\n",
    "print(new_train_y.shape)"
   ]
  },
  {
   "cell_type": "markdown",
   "metadata": {},
   "source": [
    "# Change the default classes and convert the problem to a binary classification. If a digit is bigger than 4 write 1, otherwise write 0.  "
   ]
  },
  {
   "cell_type": "code",
   "execution_count": null,
   "metadata": {
    "id": "IYfE24H_ajJM"
   },
   "outputs": [],
   "source": [
    "\n",
    "for i in range (new_train_y.shape[0]):\n",
    "    if new_train_y[i]<=4:\n",
    "        new_train_y[i]=0\n",
    "    else:\n",
    "        new_train_y[i]=1\n",
    "\n",
    "for i in range (test_y.shape[0]):\n",
    "    if test_y[i]<=4:\n",
    "        test_y[i]=0\n",
    "    else:\n",
    "        test_y[i]=1\n",
    "\n",
    "\n",
    "\n",
    "\n"
   ]
  },
  {
   "cell_type": "code",
   "execution_count": null,
   "metadata": {
    "colab": {
     "base_uri": "https://localhost:8080/"
    },
    "id": "yoMP8HDZVxQA",
    "outputId": "36a31f39-98c0-49a9-854b-bbe1e80a52a1"
   },
   "outputs": [
    {
     "name": "stdout",
     "output_type": "stream",
     "text": [
      "[[1]\n",
      " [0]\n",
      " [0]\n",
      " ...\n",
      " [0]\n",
      " [1]\n",
      " [1]]\n"
     ]
    }
   ],
   "source": [
    "print(new_train_y)\n"
   ]
  },
  {
   "cell_type": "code",
   "execution_count": null,
   "metadata": {
    "colab": {
     "base_uri": "https://localhost:8080/"
    },
    "id": "Lo-PLCDFV6D7",
    "outputId": "f9e48e32-c61f-4f41-bd51-9ed3ff8e5868"
   },
   "outputs": [
    {
     "name": "stdout",
     "output_type": "stream",
     "text": [
      "[1 0 0 ... 0 1 1]\n"
     ]
    }
   ],
   "source": [
    "print(test_y)"
   ]
  },
  {
   "cell_type": "code",
   "execution_count": null,
   "metadata": {
    "colab": {
     "base_uri": "https://localhost:8080/"
    },
    "id": "MfT-xMtKUQCL",
    "outputId": "c2d43ca2-4fe2-43ef-fc1b-d6677ce9a017"
   },
   "outputs": [
    {
     "name": "stdout",
     "output_type": "stream",
     "text": [
      "(12000, 1)\n",
      "(10000,)\n"
     ]
    }
   ],
   "source": [
    "\n",
    "print(new_train_y.shape)\n",
    "\n",
    "print(test_y.shape)"
   ]
  },
  {
   "cell_type": "code",
   "execution_count": null,
   "metadata": {
    "colab": {
     "base_uri": "https://localhost:8080/"
    },
    "id": "9srhnovL3lwa",
    "outputId": "24b46126-509f-4ba7-809e-db42c7399fee"
   },
   "outputs": [
    {
     "name": "stdout",
     "output_type": "stream",
     "text": [
      "(12000,)\n",
      "(10000,)\n"
     ]
    }
   ],
   "source": [
    "new_train_y=np.reshape(new_train_y,(new_train_y.shape[0],))\n",
    "print(new_train_y.shape)\n",
    "test_y=np.reshape(test_y,(test_y.shape[0],))\n",
    "print(test_y.shape)"
   ]
  },
  {
   "cell_type": "markdown",
   "metadata": {},
   "source": [
    "# SVM\n",
    "## Try to run linear kernel"
   ]
  },
  {
   "cell_type": "code",
   "execution_count": null,
   "metadata": {
    "colab": {
     "base_uri": "https://localhost:8080/"
    },
    "id": "RUxNGtSYWbjf",
    "outputId": "f1addb16-d8d4-4131-a01d-d9b4d5815174"
   },
   "outputs": [
    {
     "name": "stdout",
     "output_type": "stream",
     "text": [
      "100\n"
     ]
    }
   ],
   "source": [
    "#linear kernel does not run\n",
    "\n",
    "from sklearn import datasets\n",
    "from sklearn.model_selection import train_test_split\n",
    "from sklearn.model_selection import GridSearchCV\n",
    "from sklearn.metrics import classification_report,confusion_matrix  \n",
    "from sklearn.svm import SVC\n",
    "from sklearn.metrics import accuracy_score\n",
    "import matplotlib.pyplot as plt\n",
    "%matplotlib inline\n",
    "\n",
    "C=[10, 100]\n",
    "\n",
    "score=[]\n",
    "for i in C:\n",
    "  print(i)\n",
    "  clf=SVC(kernel='linear',C=i)\n",
    "  clf.fit(new_train_X, new_train_y)\n",
    "  y_pred = clf.predict(test_X)\n",
    "  score.append(accuracy_score(test_y, y_pred))                    \n",
    "print(score)"
   ]
  },
  {
   "cell_type": "markdown",
   "metadata": {},
   "source": [
    "# Grid search of the parameters"
   ]
  },
  {
   "cell_type": "code",
   "execution_count": null,
   "metadata": {
    "colab": {
     "base_uri": "https://localhost:8080/"
    },
    "id": "FuucLQUIb82m",
    "outputId": "32911acd-3a6f-4075-c8ad-72150c2b69c4"
   },
   "outputs": [
    {
     "name": "stdout",
     "output_type": "stream",
     "text": [
      "GridSearchCV(estimator=SVC(),\n",
      "             param_grid=[{'C': [1, 10, 100], 'gamma': [1, 0.1, 0.01],\n",
      "                          'kernel': ['rbf']},\n",
      "                         {'C': [1, 10, 100], 'degree': [2, 3, 4],\n",
      "                          'gamma': [1, 0.1, 0.01], 'kernel': ['poly']},\n",
      "                         {'C': [1, 10, 100], 'gamma': [1, 0.1, 0.01],\n",
      "                          'kernel': ['sigmoid']}],\n",
      "             verbose=2)\n",
      "Fitting 5 folds for each of 45 candidates, totalling 225 fits\n",
      "[CV] END ...........................C=1, gamma=1, kernel=rbf; total time= 2.2min\n",
      "[CV] END ...........................C=1, gamma=1, kernel=rbf; total time= 2.2min\n",
      "[CV] END ...........................C=1, gamma=1, kernel=rbf; total time= 2.1min\n",
      "[CV] END ...........................C=1, gamma=1, kernel=rbf; total time= 2.1min\n",
      "[CV] END ...........................C=1, gamma=1, kernel=rbf; total time= 2.1min\n",
      "[CV] END .........................C=1, gamma=0.1, kernel=rbf; total time= 2.1min\n",
      "[CV] END .........................C=1, gamma=0.1, kernel=rbf; total time= 2.1min\n",
      "[CV] END .........................C=1, gamma=0.1, kernel=rbf; total time= 2.1min\n",
      "[CV] END .........................C=1, gamma=0.1, kernel=rbf; total time= 2.0min\n",
      "[CV] END .........................C=1, gamma=0.1, kernel=rbf; total time= 2.1min\n",
      "[CV] END ........................C=1, gamma=0.01, kernel=rbf; total time= 2.1min\n",
      "[CV] END ........................C=1, gamma=0.01, kernel=rbf; total time= 2.1min\n",
      "[CV] END ........................C=1, gamma=0.01, kernel=rbf; total time= 2.2min\n",
      "[CV] END ........................C=1, gamma=0.01, kernel=rbf; total time= 2.1min\n",
      "[CV] END ........................C=1, gamma=0.01, kernel=rbf; total time= 2.1min\n",
      "[CV] END ..........................C=10, gamma=1, kernel=rbf; total time= 3.4min\n",
      "[CV] END ..........................C=10, gamma=1, kernel=rbf; total time= 3.4min\n",
      "[CV] END ..........................C=10, gamma=1, kernel=rbf; total time= 3.4min\n",
      "[CV] END ..........................C=10, gamma=1, kernel=rbf; total time= 3.4min\n",
      "[CV] END ..........................C=10, gamma=1, kernel=rbf; total time= 3.4min\n",
      "[CV] END ........................C=10, gamma=0.1, kernel=rbf; total time= 3.5min\n",
      "[CV] END ........................C=10, gamma=0.1, kernel=rbf; total time= 3.4min\n",
      "[CV] END ........................C=10, gamma=0.1, kernel=rbf; total time= 3.4min\n",
      "[CV] END ........................C=10, gamma=0.1, kernel=rbf; total time= 3.3min\n",
      "[CV] END ........................C=10, gamma=0.1, kernel=rbf; total time= 3.3min\n",
      "[CV] END .......................C=10, gamma=0.01, kernel=rbf; total time= 3.4min\n",
      "[CV] END .......................C=10, gamma=0.01, kernel=rbf; total time= 3.3min\n",
      "[CV] END .......................C=10, gamma=0.01, kernel=rbf; total time= 3.3min\n",
      "[CV] END .......................C=10, gamma=0.01, kernel=rbf; total time= 3.4min\n",
      "[CV] END .......................C=10, gamma=0.01, kernel=rbf; total time= 3.4min\n",
      "[CV] END .........................C=100, gamma=1, kernel=rbf; total time= 3.4min\n",
      "[CV] END .........................C=100, gamma=1, kernel=rbf; total time= 3.4min\n",
      "[CV] END .........................C=100, gamma=1, kernel=rbf; total time= 3.4min\n",
      "[CV] END .........................C=100, gamma=1, kernel=rbf; total time= 3.4min\n",
      "[CV] END .........................C=100, gamma=1, kernel=rbf; total time= 3.4min\n",
      "[CV] END .......................C=100, gamma=0.1, kernel=rbf; total time= 3.4min\n",
      "[CV] END .......................C=100, gamma=0.1, kernel=rbf; total time= 3.4min\n",
      "[CV] END .......................C=100, gamma=0.1, kernel=rbf; total time= 3.4min\n",
      "[CV] END .......................C=100, gamma=0.1, kernel=rbf; total time= 3.4min\n",
      "[CV] END .......................C=100, gamma=0.1, kernel=rbf; total time= 3.4min\n",
      "[CV] END ......................C=100, gamma=0.01, kernel=rbf; total time= 3.4min\n",
      "[CV] END ......................C=100, gamma=0.01, kernel=rbf; total time= 3.4min\n",
      "[CV] END ......................C=100, gamma=0.01, kernel=rbf; total time= 3.4min\n",
      "[CV] END ......................C=100, gamma=0.01, kernel=rbf; total time= 3.4min\n",
      "[CV] END ......................C=100, gamma=0.01, kernel=rbf; total time= 3.4min\n",
      "[CV] END ................C=1, degree=2, gamma=1, kernel=poly; total time=  12.2s\n",
      "[CV] END ................C=1, degree=2, gamma=1, kernel=poly; total time=  11.7s\n",
      "[CV] END ................C=1, degree=2, gamma=1, kernel=poly; total time=  12.1s\n",
      "[CV] END ................C=1, degree=2, gamma=1, kernel=poly; total time=  11.9s\n",
      "[CV] END ................C=1, degree=2, gamma=1, kernel=poly; total time=  12.1s\n",
      "[CV] END ..............C=1, degree=2, gamma=0.1, kernel=poly; total time=  11.9s\n",
      "[CV] END ..............C=1, degree=2, gamma=0.1, kernel=poly; total time=  11.6s\n",
      "[CV] END ..............C=1, degree=2, gamma=0.1, kernel=poly; total time=  11.9s\n",
      "[CV] END ..............C=1, degree=2, gamma=0.1, kernel=poly; total time=  12.0s\n",
      "[CV] END ..............C=1, degree=2, gamma=0.1, kernel=poly; total time=  12.0s\n",
      "[CV] END .............C=1, degree=2, gamma=0.01, kernel=poly; total time=  12.2s\n",
      "[CV] END .............C=1, degree=2, gamma=0.01, kernel=poly; total time=  11.8s\n",
      "[CV] END .............C=1, degree=2, gamma=0.01, kernel=poly; total time=  12.3s\n",
      "[CV] END .............C=1, degree=2, gamma=0.01, kernel=poly; total time=  12.1s\n",
      "[CV] END .............C=1, degree=2, gamma=0.01, kernel=poly; total time=  12.3s\n",
      "[CV] END ................C=1, degree=3, gamma=1, kernel=poly; total time=  11.6s\n",
      "[CV] END ................C=1, degree=3, gamma=1, kernel=poly; total time=  11.3s\n",
      "[CV] END ................C=1, degree=3, gamma=1, kernel=poly; total time=  11.8s\n",
      "[CV] END ................C=1, degree=3, gamma=1, kernel=poly; total time=  11.4s\n",
      "[CV] END ................C=1, degree=3, gamma=1, kernel=poly; total time=  11.9s\n",
      "[CV] END ..............C=1, degree=3, gamma=0.1, kernel=poly; total time=  11.8s\n",
      "[CV] END ..............C=1, degree=3, gamma=0.1, kernel=poly; total time=  11.5s\n",
      "[CV] END ..............C=1, degree=3, gamma=0.1, kernel=poly; total time=  11.6s\n",
      "[CV] END ..............C=1, degree=3, gamma=0.1, kernel=poly; total time=  11.6s\n",
      "[CV] END ..............C=1, degree=3, gamma=0.1, kernel=poly; total time=  12.0s\n",
      "[CV] END .............C=1, degree=3, gamma=0.01, kernel=poly; total time=  11.8s\n",
      "[CV] END .............C=1, degree=3, gamma=0.01, kernel=poly; total time=  11.9s\n",
      "[CV] END .............C=1, degree=3, gamma=0.01, kernel=poly; total time=  11.7s\n",
      "[CV] END .............C=1, degree=3, gamma=0.01, kernel=poly; total time=  11.8s\n",
      "[CV] END .............C=1, degree=3, gamma=0.01, kernel=poly; total time=  12.2s\n",
      "[CV] END ................C=1, degree=4, gamma=1, kernel=poly; total time=  11.5s\n",
      "[CV] END ................C=1, degree=4, gamma=1, kernel=poly; total time=  11.4s\n",
      "[CV] END ................C=1, degree=4, gamma=1, kernel=poly; total time=  11.5s\n",
      "[CV] END ................C=1, degree=4, gamma=1, kernel=poly; total time=  11.4s\n",
      "[CV] END ................C=1, degree=4, gamma=1, kernel=poly; total time=  11.6s\n",
      "[CV] END ..............C=1, degree=4, gamma=0.1, kernel=poly; total time=  11.6s\n",
      "[CV] END ..............C=1, degree=4, gamma=0.1, kernel=poly; total time=  11.0s\n",
      "[CV] END ..............C=1, degree=4, gamma=0.1, kernel=poly; total time=  11.2s\n",
      "[CV] END ..............C=1, degree=4, gamma=0.1, kernel=poly; total time=  11.4s\n",
      "[CV] END ..............C=1, degree=4, gamma=0.1, kernel=poly; total time=  11.8s\n",
      "[CV] END .............C=1, degree=4, gamma=0.01, kernel=poly; total time=  11.4s\n",
      "[CV] END .............C=1, degree=4, gamma=0.01, kernel=poly; total time=  11.2s\n",
      "[CV] END .............C=1, degree=4, gamma=0.01, kernel=poly; total time=  11.9s\n",
      "[CV] END .............C=1, degree=4, gamma=0.01, kernel=poly; total time=  11.8s\n",
      "[CV] END .............C=1, degree=4, gamma=0.01, kernel=poly; total time=  11.7s\n",
      "[CV] END ...............C=10, degree=2, gamma=1, kernel=poly; total time=  12.1s\n",
      "[CV] END ...............C=10, degree=2, gamma=1, kernel=poly; total time=  11.7s\n",
      "[CV] END ...............C=10, degree=2, gamma=1, kernel=poly; total time=  12.0s\n",
      "[CV] END ...............C=10, degree=2, gamma=1, kernel=poly; total time=  11.8s\n",
      "[CV] END ...............C=10, degree=2, gamma=1, kernel=poly; total time=  12.0s\n",
      "[CV] END .............C=10, degree=2, gamma=0.1, kernel=poly; total time=  12.1s\n",
      "[CV] END .............C=10, degree=2, gamma=0.1, kernel=poly; total time=  11.8s\n",
      "[CV] END .............C=10, degree=2, gamma=0.1, kernel=poly; total time=  12.2s\n",
      "[CV] END .............C=10, degree=2, gamma=0.1, kernel=poly; total time=  12.1s\n",
      "[CV] END .............C=10, degree=2, gamma=0.1, kernel=poly; total time=  12.2s\n",
      "[CV] END ............C=10, degree=2, gamma=0.01, kernel=poly; total time=  12.2s\n",
      "[CV] END ............C=10, degree=2, gamma=0.01, kernel=poly; total time=  12.1s\n",
      "[CV] END ............C=10, degree=2, gamma=0.01, kernel=poly; total time=  12.0s\n",
      "[CV] END ............C=10, degree=2, gamma=0.01, kernel=poly; total time=  12.2s\n",
      "[CV] END ............C=10, degree=2, gamma=0.01, kernel=poly; total time=  12.1s\n",
      "[CV] END ...............C=10, degree=3, gamma=1, kernel=poly; total time=  11.3s\n",
      "[CV] END ...............C=10, degree=3, gamma=1, kernel=poly; total time=  11.3s\n",
      "[CV] END ...............C=10, degree=3, gamma=1, kernel=poly; total time=  11.3s\n",
      "[CV] END ...............C=10, degree=3, gamma=1, kernel=poly; total time=  11.6s\n",
      "[CV] END ...............C=10, degree=3, gamma=1, kernel=poly; total time=  11.8s\n",
      "[CV] END .............C=10, degree=3, gamma=0.1, kernel=poly; total time=  11.7s\n",
      "[CV] END .............C=10, degree=3, gamma=0.1, kernel=poly; total time=  11.6s\n",
      "[CV] END .............C=10, degree=3, gamma=0.1, kernel=poly; total time=  11.4s\n",
      "[CV] END .............C=10, degree=3, gamma=0.1, kernel=poly; total time=  11.6s\n",
      "[CV] END .............C=10, degree=3, gamma=0.1, kernel=poly; total time=  11.9s\n",
      "[CV] END ............C=10, degree=3, gamma=0.01, kernel=poly; total time=  11.9s\n",
      "[CV] END ............C=10, degree=3, gamma=0.01, kernel=poly; total time=  11.5s\n",
      "[CV] END ............C=10, degree=3, gamma=0.01, kernel=poly; total time=  11.4s\n",
      "[CV] END ............C=10, degree=3, gamma=0.01, kernel=poly; total time=  11.5s\n",
      "[CV] END ............C=10, degree=3, gamma=0.01, kernel=poly; total time=  11.7s\n",
      "[CV] END ...............C=10, degree=4, gamma=1, kernel=poly; total time=  11.2s\n",
      "[CV] END ...............C=10, degree=4, gamma=1, kernel=poly; total time=  11.2s\n",
      "[CV] END ...............C=10, degree=4, gamma=1, kernel=poly; total time=  11.5s\n",
      "[CV] END ...............C=10, degree=4, gamma=1, kernel=poly; total time=  11.6s\n",
      "[CV] END ...............C=10, degree=4, gamma=1, kernel=poly; total time=  11.5s\n",
      "[CV] END .............C=10, degree=4, gamma=0.1, kernel=poly; total time=  11.2s\n",
      "[CV] END .............C=10, degree=4, gamma=0.1, kernel=poly; total time=  11.2s\n",
      "[CV] END .............C=10, degree=4, gamma=0.1, kernel=poly; total time=  11.3s\n",
      "[CV] END .............C=10, degree=4, gamma=0.1, kernel=poly; total time=  11.6s\n",
      "[CV] END .............C=10, degree=4, gamma=0.1, kernel=poly; total time=  11.9s\n",
      "[CV] END ............C=10, degree=4, gamma=0.01, kernel=poly; total time=  11.5s\n",
      "[CV] END ............C=10, degree=4, gamma=0.01, kernel=poly; total time=  11.2s\n",
      "[CV] END ............C=10, degree=4, gamma=0.01, kernel=poly; total time=  11.4s\n",
      "[CV] END ............C=10, degree=4, gamma=0.01, kernel=poly; total time=  11.3s\n",
      "[CV] END ............C=10, degree=4, gamma=0.01, kernel=poly; total time=  11.6s\n",
      "[CV] END ..............C=100, degree=2, gamma=1, kernel=poly; total time=  12.0s\n",
      "[CV] END ..............C=100, degree=2, gamma=1, kernel=poly; total time=  11.6s\n",
      "[CV] END ..............C=100, degree=2, gamma=1, kernel=poly; total time=  12.1s\n",
      "[CV] END ..............C=100, degree=2, gamma=1, kernel=poly; total time=  12.1s\n",
      "[CV] END ..............C=100, degree=2, gamma=1, kernel=poly; total time=  12.4s\n",
      "[CV] END ............C=100, degree=2, gamma=0.1, kernel=poly; total time=  12.1s\n",
      "[CV] END ............C=100, degree=2, gamma=0.1, kernel=poly; total time=  11.6s\n",
      "[CV] END ............C=100, degree=2, gamma=0.1, kernel=poly; total time=  12.0s\n",
      "[CV] END ............C=100, degree=2, gamma=0.1, kernel=poly; total time=  12.1s\n",
      "[CV] END ............C=100, degree=2, gamma=0.1, kernel=poly; total time=  12.4s\n",
      "[CV] END ...........C=100, degree=2, gamma=0.01, kernel=poly; total time=  11.9s\n",
      "[CV] END ...........C=100, degree=2, gamma=0.01, kernel=poly; total time=  11.5s\n",
      "[CV] END ...........C=100, degree=2, gamma=0.01, kernel=poly; total time=  12.1s\n",
      "[CV] END ...........C=100, degree=2, gamma=0.01, kernel=poly; total time=  12.2s\n",
      "[CV] END ...........C=100, degree=2, gamma=0.01, kernel=poly; total time=  12.2s\n",
      "[CV] END ..............C=100, degree=3, gamma=1, kernel=poly; total time=  11.7s\n",
      "[CV] END ..............C=100, degree=3, gamma=1, kernel=poly; total time=  11.7s\n",
      "[CV] END ..............C=100, degree=3, gamma=1, kernel=poly; total time=  11.8s\n",
      "[CV] END ..............C=100, degree=3, gamma=1, kernel=poly; total time=  11.8s\n",
      "[CV] END ..............C=100, degree=3, gamma=1, kernel=poly; total time=  12.0s\n",
      "[CV] END ............C=100, degree=3, gamma=0.1, kernel=poly; total time=  11.5s\n",
      "[CV] END ............C=100, degree=3, gamma=0.1, kernel=poly; total time=  11.4s\n",
      "[CV] END ............C=100, degree=3, gamma=0.1, kernel=poly; total time=  11.7s\n",
      "[CV] END ............C=100, degree=3, gamma=0.1, kernel=poly; total time=  11.4s\n",
      "[CV] END ............C=100, degree=3, gamma=0.1, kernel=poly; total time=  12.0s\n",
      "[CV] END ...........C=100, degree=3, gamma=0.01, kernel=poly; total time=  11.7s\n",
      "[CV] END ...........C=100, degree=3, gamma=0.01, kernel=poly; total time=  11.6s\n",
      "[CV] END ...........C=100, degree=3, gamma=0.01, kernel=poly; total time=  11.5s\n",
      "[CV] END ...........C=100, degree=3, gamma=0.01, kernel=poly; total time=  11.5s\n",
      "[CV] END ...........C=100, degree=3, gamma=0.01, kernel=poly; total time=  11.8s\n",
      "[CV] END ..............C=100, degree=4, gamma=1, kernel=poly; total time=  11.5s\n",
      "[CV] END ..............C=100, degree=4, gamma=1, kernel=poly; total time=  11.2s\n",
      "[CV] END ..............C=100, degree=4, gamma=1, kernel=poly; total time=  11.4s\n",
      "[CV] END ..............C=100, degree=4, gamma=1, kernel=poly; total time=  11.3s\n",
      "[CV] END ..............C=100, degree=4, gamma=1, kernel=poly; total time=  11.5s\n",
      "[CV] END ............C=100, degree=4, gamma=0.1, kernel=poly; total time=  11.3s\n",
      "[CV] END ............C=100, degree=4, gamma=0.1, kernel=poly; total time=  11.2s\n",
      "[CV] END ............C=100, degree=4, gamma=0.1, kernel=poly; total time=  11.2s\n",
      "[CV] END ............C=100, degree=4, gamma=0.1, kernel=poly; total time=  11.3s\n",
      "[CV] END ............C=100, degree=4, gamma=0.1, kernel=poly; total time=  11.9s\n",
      "[CV] END ...........C=100, degree=4, gamma=0.01, kernel=poly; total time=  11.5s\n",
      "[CV] END ...........C=100, degree=4, gamma=0.01, kernel=poly; total time=  11.4s\n",
      "[CV] END ...........C=100, degree=4, gamma=0.01, kernel=poly; total time=  11.5s\n",
      "[CV] END ...........C=100, degree=4, gamma=0.01, kernel=poly; total time=  11.6s\n",
      "[CV] END ...........C=100, degree=4, gamma=0.01, kernel=poly; total time=  11.5s\n",
      "[CV] END .......................C=1, gamma=1, kernel=sigmoid; total time= 1.1min\n",
      "[CV] END .......................C=1, gamma=1, kernel=sigmoid; total time= 1.1min\n",
      "[CV] END .......................C=1, gamma=1, kernel=sigmoid; total time= 1.1min\n",
      "[CV] END .......................C=1, gamma=1, kernel=sigmoid; total time= 1.1min\n",
      "[CV] END .......................C=1, gamma=1, kernel=sigmoid; total time= 1.1min\n",
      "[CV] END .....................C=1, gamma=0.1, kernel=sigmoid; total time= 1.1min\n",
      "[CV] END .....................C=1, gamma=0.1, kernel=sigmoid; total time= 1.1min\n",
      "[CV] END .....................C=1, gamma=0.1, kernel=sigmoid; total time= 1.1min\n",
      "[CV] END .....................C=1, gamma=0.1, kernel=sigmoid; total time= 1.1min\n",
      "[CV] END .....................C=1, gamma=0.1, kernel=sigmoid; total time= 1.1min\n",
      "[CV] END ....................C=1, gamma=0.01, kernel=sigmoid; total time= 1.1min\n",
      "[CV] END ....................C=1, gamma=0.01, kernel=sigmoid; total time= 1.2min\n",
      "[CV] END ....................C=1, gamma=0.01, kernel=sigmoid; total time= 1.1min\n",
      "[CV] END ....................C=1, gamma=0.01, kernel=sigmoid; total time= 1.1min\n",
      "[CV] END ....................C=1, gamma=0.01, kernel=sigmoid; total time= 1.1min\n",
      "[CV] END ......................C=10, gamma=1, kernel=sigmoid; total time= 1.1min\n",
      "[CV] END ......................C=10, gamma=1, kernel=sigmoid; total time= 1.1min\n",
      "[CV] END ......................C=10, gamma=1, kernel=sigmoid; total time= 1.1min\n",
      "[CV] END ......................C=10, gamma=1, kernel=sigmoid; total time= 1.1min\n",
      "[CV] END ......................C=10, gamma=1, kernel=sigmoid; total time= 1.1min\n",
      "[CV] END ....................C=10, gamma=0.1, kernel=sigmoid; total time= 1.1min\n",
      "[CV] END ....................C=10, gamma=0.1, kernel=sigmoid; total time= 1.1min\n",
      "[CV] END ....................C=10, gamma=0.1, kernel=sigmoid; total time= 1.1min\n",
      "[CV] END ....................C=10, gamma=0.1, kernel=sigmoid; total time= 1.1min\n",
      "[CV] END ....................C=10, gamma=0.1, kernel=sigmoid; total time= 1.1min\n",
      "[CV] END ...................C=10, gamma=0.01, kernel=sigmoid; total time= 1.1min\n",
      "[CV] END ...................C=10, gamma=0.01, kernel=sigmoid; total time= 1.1min\n",
      "[CV] END ...................C=10, gamma=0.01, kernel=sigmoid; total time= 1.1min\n",
      "[CV] END ...................C=10, gamma=0.01, kernel=sigmoid; total time= 1.1min\n",
      "[CV] END ...................C=10, gamma=0.01, kernel=sigmoid; total time= 1.1min\n",
      "[CV] END .....................C=100, gamma=1, kernel=sigmoid; total time= 1.1min\n",
      "[CV] END .....................C=100, gamma=1, kernel=sigmoid; total time= 1.2min\n",
      "[CV] END .....................C=100, gamma=1, kernel=sigmoid; total time= 1.1min\n",
      "[CV] END .....................C=100, gamma=1, kernel=sigmoid; total time= 1.1min\n",
      "[CV] END .....................C=100, gamma=1, kernel=sigmoid; total time= 1.1min\n",
      "[CV] END ...................C=100, gamma=0.1, kernel=sigmoid; total time= 1.1min\n",
      "[CV] END ...................C=100, gamma=0.1, kernel=sigmoid; total time= 1.1min\n",
      "[CV] END ...................C=100, gamma=0.1, kernel=sigmoid; total time= 1.1min\n",
      "[CV] END ...................C=100, gamma=0.1, kernel=sigmoid; total time= 1.1min\n",
      "[CV] END ...................C=100, gamma=0.1, kernel=sigmoid; total time= 1.1min\n",
      "[CV] END ..................C=100, gamma=0.01, kernel=sigmoid; total time= 1.1min\n",
      "[CV] END ..................C=100, gamma=0.01, kernel=sigmoid; total time= 1.1min\n",
      "[CV] END ..................C=100, gamma=0.01, kernel=sigmoid; total time= 1.1min\n",
      "[CV] END ..................C=100, gamma=0.01, kernel=sigmoid; total time= 1.1min\n",
      "[CV] END ..................C=100, gamma=0.01, kernel=sigmoid; total time= 1.1min\n",
      "SVC(C=1, gamma=1, kernel='poly')\n",
      "SVC(C=1, gamma=1, kernel='poly')\n",
      "[[5008  131]\n",
      " [ 151 4710]]\n",
      "              precision    recall  f1-score   support\n",
      "\n",
      "           0       0.97      0.97      0.97      5139\n",
      "           1       0.97      0.97      0.97      4861\n",
      "\n",
      "    accuracy                           0.97     10000\n",
      "   macro avg       0.97      0.97      0.97     10000\n",
      "weighted avg       0.97      0.97      0.97     10000\n",
      "\n",
      "0.9718\n"
     ]
    }
   ],
   "source": [
    "from sklearn import datasets\n",
    "from sklearn.model_selection import train_test_split\n",
    "from sklearn.model_selection import GridSearchCV\n",
    "from sklearn.metrics import classification_report,confusion_matrix  \n",
    "from sklearn.svm import SVC\n",
    "from sklearn.metrics import accuracy_score\n",
    "import matplotlib.pyplot as plt\n",
    "%matplotlib inline\n",
    "\n",
    "tuned_parameters = [\n",
    "    {\"kernel\": [\"rbf\"], \"gamma\": [1,0.1,0.01], \"C\": [1, 10, 100]},\n",
    "     {\"kernel\": [\"poly\"], \"degree\" : [2,3,4], \"gamma\": [1,0.1,0.01], \"C\": [1, 10, 100]},\n",
    "     {\"kernel\": [\"sigmoid\"],\"gamma\": [1,0.1,0.01], \"C\": [1, 10, 100]}\n",
    "    \n",
    "]\n",
    "\n",
    "grid = GridSearchCV(SVC(),tuned_parameters,refit=True,verbose=2,)\n",
    "print(grid)\n",
    "grid.fit(new_train_X,new_train_y)\n",
    "print(grid.best_estimator_)\n",
    "print(grid.best_estimator_)\n",
    "grid_predictions = grid.predict(test_X)\n",
    "print(confusion_matrix(test_y,grid_predictions))\n",
    "print(classification_report(test_y,grid_predictions))\n",
    "print(accuracy_score(test_y, grid_predictions))"
   ]
  },
  {
   "cell_type": "markdown",
   "metadata": {},
   "source": [
    "# Perform a custom search for poly kernel parameters."
   ]
  },
  {
   "cell_type": "code",
   "execution_count": null,
   "metadata": {
    "colab": {
     "base_uri": "https://localhost:8080/"
    },
    "id": "2ESibWMv4q1X",
    "outputId": "52f91f79-1b8b-4089-e8e9-8eea1dac6a4c"
   },
   "outputs": [
    {
     "name": "stdout",
     "output_type": "stream",
     "text": [
      "1 1 2\n",
      "1 1 3\n",
      "1 1 4\n",
      "1 0.1 2\n",
      "1 0.1 3\n",
      "1 0.1 4\n",
      "1 0.01 2\n",
      "1 0.01 3\n",
      "1 0.01 4\n",
      "10 1 2\n",
      "10 1 3\n",
      "10 1 4\n",
      "10 0.1 2\n",
      "10 0.1 3\n",
      "10 0.1 4\n",
      "10 0.01 2\n",
      "10 0.01 3\n",
      "10 0.01 4\n",
      "100 1 2\n",
      "100 1 3\n",
      "100 1 4\n",
      "100 0.1 2\n",
      "100 0.1 3\n",
      "100 0.1 4\n",
      "100 0.01 2\n",
      "100 0.01 3\n",
      "100 0.01 4\n",
      "[0.9667, 0.9718, 0.9703, 0.9667, 0.9718, 0.9703, 0.9667, 0.9718, 0.9703, 0.9667, 0.9718, 0.9703, 0.9667, 0.9718, 0.9703, 0.9667, 0.9718, 0.9703, 0.9667, 0.9718, 0.9703, 0.9667, 0.9718, 0.9703, 0.9667, 0.9718, 0.9703]\n"
     ]
    }
   ],
   "source": [
    "from sklearn import datasets\n",
    "from sklearn.model_selection import train_test_split\n",
    "from sklearn.model_selection import GridSearchCV\n",
    "from sklearn.metrics import classification_report,confusion_matrix  \n",
    "from sklearn.svm import SVC\n",
    "from sklearn.metrics import accuracy_score\n",
    "import matplotlib.pyplot as plt\n",
    "%matplotlib inline\n",
    "\n",
    "\n",
    "degree=[2,3,4]\n",
    "gamma=[1,0.1,0.01]\n",
    "C=[1, 10, 100]\n",
    "\n",
    "score=[]\n",
    "for i in C:\n",
    "    for j in gamma:\n",
    "        for k in degree:\n",
    "            \n",
    "            print(i,j,k)\n",
    "    \n",
    "            clf=SVC(kernel='poly', degree=k, gamma=j,C=i)\n",
    "            clf.fit(new_train_X, new_train_y)\n",
    "            y_pred = clf.predict(test_X)\n",
    "            score.append(accuracy_score(test_y, y_pred))                    \n",
    "print(score)"
   ]
  },
  {
   "cell_type": "markdown",
   "metadata": {},
   "source": [
    "# print max score"
   ]
  },
  {
   "cell_type": "code",
   "execution_count": null,
   "metadata": {
    "colab": {
     "base_uri": "https://localhost:8080/"
    },
    "id": "WPsmPHBCajLv",
    "outputId": "ea15e8d2-3727-4d29-b16f-74cd1fcf47b2"
   },
   "outputs": [
    {
     "data": {
      "text/plain": [
       "0.9718"
      ]
     },
     "execution_count": 12,
     "metadata": {},
     "output_type": "execute_result"
    }
   ],
   "source": [
    "max(score)\n"
   ]
  },
  {
   "cell_type": "markdown",
   "metadata": {},
   "source": [
    "# Test the score of the poly kernel"
   ]
  },
  {
   "cell_type": "code",
   "execution_count": null,
   "metadata": {
    "id": "KzMjmqUwajOQ"
   },
   "outputs": [],
   "source": [
    "from sklearn import datasets\n",
    "from sklearn.model_selection import train_test_split\n",
    "from sklearn.model_selection import GridSearchCV\n",
    "from sklearn.metrics import classification_report,confusion_matrix  \n",
    "from sklearn.svm import SVC\n",
    "from sklearn.metrics import accuracy_score\n",
    "import matplotlib.pyplot as plt\n",
    "%matplotlib inline\n",
    "\n",
    "clf=SVC(kernel='poly', degree=3, gamma=1,C=1)\n",
    "clf.fit(new_train_X, new_train_y)\n",
    "y_pred = clf.predict(test_X)\n",
    "best_score=(accuracy_score(test_y, y_pred))   "
   ]
  },
  {
   "cell_type": "code",
   "execution_count": null,
   "metadata": {
    "colab": {
     "base_uri": "https://localhost:8080/"
    },
    "id": "-O6i8LkBKaWC",
    "outputId": "5aad6c94-3db8-4730-d64d-21051d51adc6"
   },
   "outputs": [
    {
     "name": "stdout",
     "output_type": "stream",
     "text": [
      "0.9718\n"
     ]
    }
   ],
   "source": [
    "print(best_score)"
   ]
  },
  {
   "cell_type": "markdown",
   "metadata": {
    "id": "O6cmCCmJdUv3"
   },
   "source": [
    "# SVM + PCA"
   ]
  },
  {
   "cell_type": "code",
   "execution_count": null,
   "metadata": {
    "colab": {
     "base_uri": "https://localhost:8080/",
     "height": 1000
    },
    "id": "xC5IbLUwKadS",
    "outputId": "1538f720-6288-4a93-9d77-a1d3f200d850"
   },
   "outputs": [
    {
     "name": "stdout",
     "output_type": "stream",
     "text": [
      "100\n",
      "102\n",
      "104\n",
      "106\n",
      "108\n",
      "110\n",
      "112\n",
      "114\n",
      "116\n",
      "118\n",
      "120\n",
      "122\n",
      "124\n",
      "126\n",
      "128\n",
      "130\n",
      "132\n",
      "134\n",
      "136\n",
      "138\n",
      "140\n",
      "142\n",
      "144\n",
      "146\n",
      "148\n",
      "150\n",
      "152\n",
      "154\n",
      "156\n",
      "158\n",
      "160\n",
      "162\n",
      "164\n",
      "166\n",
      "168\n",
      "170\n",
      "172\n",
      "174\n",
      "176\n",
      "178\n",
      "180\n",
      "182\n",
      "184\n",
      "186\n",
      "188\n",
      "190\n",
      "192\n",
      "194\n",
      "196\n",
      "198\n",
      "200\n",
      "202\n",
      "204\n",
      "206\n",
      "208\n",
      "210\n",
      "212\n",
      "214\n",
      "216\n",
      "218\n",
      "220\n",
      "222\n",
      "224\n",
      "226\n",
      "228\n",
      "230\n",
      "232\n",
      "234\n",
      "236\n",
      "238\n",
      "240\n",
      "242\n",
      "244\n",
      "246\n",
      "248\n",
      "250\n",
      "252\n",
      "254\n",
      "256\n",
      "258\n",
      "260\n",
      "262\n",
      "264\n",
      "266\n",
      "268\n",
      "270\n",
      "272\n",
      "274\n",
      "276\n",
      "278\n",
      "280\n",
      "282\n",
      "284\n",
      "286\n",
      "288\n",
      "290\n",
      "292\n",
      "294\n",
      "296\n",
      "298\n",
      "300\n",
      "302\n",
      "304\n",
      "306\n",
      "308\n",
      "310\n",
      "312\n",
      "314\n",
      "316\n",
      "318\n",
      "320\n",
      "322\n",
      "324\n",
      "326\n",
      "328\n",
      "330\n",
      "332\n",
      "334\n",
      "336\n",
      "338\n",
      "340\n",
      "342\n",
      "344\n",
      "346\n",
      "348\n",
      "350\n",
      "352\n",
      "354\n",
      "356\n",
      "358\n",
      "360\n",
      "362\n",
      "364\n",
      "366\n",
      "368\n",
      "370\n",
      "372\n",
      "374\n",
      "376\n",
      "378\n",
      "380\n",
      "382\n",
      "384\n",
      "386\n",
      "388\n",
      "390\n",
      "392\n",
      "394\n",
      "396\n",
      "398\n",
      "400\n",
      "402\n",
      "404\n",
      "406\n",
      "408\n",
      "410\n",
      "412\n",
      "414\n",
      "416\n",
      "418\n",
      "420\n",
      "422\n",
      "424\n",
      "426\n",
      "428\n",
      "430\n",
      "432\n",
      "434\n",
      "436\n",
      "438\n",
      "440\n",
      "442\n",
      "444\n",
      "446\n",
      "448\n",
      "450\n",
      "452\n",
      "454\n",
      "456\n",
      "458\n",
      "460\n",
      "462\n",
      "464\n",
      "466\n",
      "468\n",
      "470\n",
      "472\n",
      "474\n",
      "476\n",
      "478\n",
      "480\n",
      "482\n",
      "484\n",
      "486\n",
      "488\n",
      "490\n",
      "492\n",
      "494\n",
      "496\n",
      "498\n",
      "500\n",
      "502\n",
      "504\n",
      "506\n",
      "508\n",
      "510\n",
      "512\n",
      "514\n",
      "516\n",
      "518\n",
      "520\n",
      "522\n",
      "524\n",
      "526\n",
      "528\n",
      "530\n",
      "532\n",
      "534\n",
      "536\n",
      "538\n",
      "540\n",
      "542\n",
      "544\n",
      "546\n",
      "548\n",
      "550\n",
      "552\n",
      "554\n",
      "556\n",
      "558\n",
      "560\n",
      "562\n",
      "564\n",
      "566\n",
      "568\n",
      "570\n",
      "572\n",
      "574\n",
      "576\n",
      "578\n",
      "580\n",
      "582\n",
      "584\n",
      "586\n",
      "588\n",
      "590\n",
      "592\n",
      "594\n",
      "596\n",
      "598\n",
      "600\n",
      "602\n",
      "604\n",
      "606\n",
      "608\n",
      "610\n",
      "612\n",
      "614\n",
      "616\n",
      "618\n",
      "620\n",
      "622\n",
      "624\n",
      "626\n",
      "628\n",
      "630\n",
      "632\n",
      "634\n",
      "636\n",
      "638\n",
      "640\n",
      "642\n",
      "644\n",
      "646\n",
      "648\n",
      "650\n",
      "652\n",
      "654\n",
      "656\n",
      "658\n",
      "660\n",
      "662\n",
      "664\n",
      "666\n",
      "668\n",
      "670\n",
      "672\n",
      "674\n",
      "676\n",
      "678\n",
      "680\n",
      "682\n",
      "684\n",
      "686\n",
      "688\n",
      "690\n",
      "692\n",
      "694\n",
      "696\n",
      "698\n",
      "700\n",
      "702\n",
      "704\n",
      "706\n",
      "708\n",
      "710\n",
      "712\n",
      "714\n",
      "716\n",
      "718\n",
      "720\n",
      "722\n",
      "724\n",
      "726\n",
      "728\n",
      "730\n",
      "732\n",
      "734\n",
      "736\n",
      "738\n",
      "740\n",
      "742\n",
      "744\n",
      "746\n",
      "748\n",
      "750\n",
      "752\n",
      "754\n",
      "756\n",
      "758\n",
      "760\n",
      "762\n",
      "764\n",
      "766\n",
      "768\n",
      "770\n",
      "772\n",
      "774\n",
      "776\n",
      "778\n",
      "780\n",
      "782\n",
      "[9.71271252e-02 7.09160387e-02 6.17229042e-02 5.34410214e-02\n",
      " 4.93828613e-02 4.35254037e-02 3.25636812e-02 2.95114159e-02\n",
      " 2.76393052e-02 2.40131080e-02 2.12781921e-02 2.00641497e-02\n",
      " 1.70319210e-02 1.66409592e-02 1.57087901e-02 1.48758860e-02\n",
      " 1.32791901e-02 1.26819922e-02 1.18864640e-02 1.16532921e-02\n",
      " 1.07559679e-02 9.99180152e-03 9.73988181e-03 9.07728546e-03\n",
      " 8.92211220e-03 8.25838509e-03 7.96349085e-03 7.93690271e-03\n",
      " 7.35939395e-03 6.91114995e-03 6.69706339e-03 6.43198064e-03\n",
      " 6.16840519e-03 5.89687180e-03 5.70473455e-03 5.36221470e-03\n",
      " 5.11564767e-03 4.86912233e-03 4.80295142e-03 4.73607938e-03\n",
      " 4.58832833e-03 4.37396582e-03 4.24898754e-03 3.97943739e-03\n",
      " 3.84633264e-03 3.72142760e-03 3.62033653e-03 3.57257328e-03\n",
      " 3.42123795e-03 3.28488350e-03 3.18687878e-03 3.11013685e-03\n",
      " 2.94221866e-03 2.85551280e-03 2.75812744e-03 2.67967629e-03\n",
      " 2.66721094e-03 2.59667651e-03 2.51731680e-03 2.48329633e-03\n",
      " 2.38688081e-03 2.32694856e-03 2.27378764e-03 2.15324211e-03\n",
      " 2.14806940e-03 2.09932723e-03 2.05061842e-03 1.95710312e-03\n",
      " 1.93616246e-03 1.86827662e-03 1.83203381e-03 1.82536151e-03\n",
      " 1.76781379e-03 1.75364612e-03 1.66502540e-03 1.62601727e-03\n",
      " 1.60578688e-03 1.53549655e-03 1.48966000e-03 1.44368510e-03\n",
      " 1.40079542e-03 1.39584661e-03 1.37944403e-03 1.34510553e-03\n",
      " 1.33637775e-03 1.30675223e-03 1.27701031e-03 1.25152367e-03\n",
      " 1.23000259e-03 1.20284542e-03 1.19012846e-03 1.15216343e-03\n",
      " 1.13879510e-03 1.10333372e-03 1.08703140e-03 1.07076193e-03\n",
      " 1.03126446e-03 1.01773531e-03 1.00247112e-03 9.89504505e-04\n",
      " 9.73561169e-04 9.63991080e-04 9.50764822e-04 9.00419759e-04\n",
      " 8.93465170e-04 8.77935615e-04 8.66107593e-04 8.49513955e-04\n",
      " 8.39149510e-04 8.32968519e-04 7.89022297e-04 7.80935574e-04\n",
      " 7.75514524e-04 7.64364632e-04 7.60439762e-04 7.56461980e-04\n",
      " 7.43891774e-04 7.23305934e-04 7.12148184e-04 7.07128880e-04\n",
      " 6.93208397e-04 6.90911573e-04 6.81564555e-04 6.76186672e-04\n",
      " 6.64987485e-04 6.48458577e-04 6.37798499e-04 6.27649267e-04\n",
      " 6.18570864e-04 6.07966049e-04 5.94850375e-04 5.92668348e-04\n",
      " 5.83799928e-04 5.74597791e-04 5.71296300e-04 5.61066635e-04\n",
      " 5.52181202e-04 5.44624396e-04 5.34643485e-04 5.26767515e-04\n",
      " 5.16193946e-04 5.14751207e-04 5.01832245e-04 4.98857314e-04\n",
      " 4.95212824e-04 4.87861899e-04 4.86562064e-04 4.79640647e-04\n",
      " 4.77345386e-04 4.71829073e-04 4.64369133e-04 4.54741832e-04\n",
      " 4.51650202e-04 4.43841401e-04 4.42761896e-04 4.37215986e-04\n",
      " 4.32424156e-04 4.24826166e-04 4.23902892e-04 4.16879748e-04\n",
      " 4.13470119e-04 4.07771224e-04 4.02454056e-04 3.98490214e-04\n",
      " 3.93857165e-04 3.85546922e-04 3.83524898e-04 3.80219032e-04\n",
      " 3.76777403e-04 3.72362935e-04 3.70351462e-04 3.66268773e-04\n",
      " 3.59690916e-04 3.57548551e-04 3.50002001e-04 3.49032097e-04\n",
      " 3.47602995e-04 3.43633347e-04 3.36689508e-04 3.33988056e-04\n",
      " 3.33102219e-04 3.29994841e-04 3.29063221e-04 3.26384846e-04\n",
      " 3.23544373e-04 3.19003459e-04 3.16721549e-04 3.14233592e-04\n",
      " 3.11079589e-04 3.07922859e-04 3.07833041e-04 3.05957184e-04\n",
      " 2.99743786e-04 2.97753948e-04 2.95207247e-04 2.92309318e-04\n",
      " 2.90370937e-04 2.88101182e-04 2.84403372e-04 2.82750472e-04\n",
      " 2.79310489e-04 2.76878359e-04 2.73452086e-04 2.69666965e-04\n",
      " 2.66733062e-04 2.65109523e-04 2.63874437e-04 2.62273182e-04\n",
      " 2.59702016e-04 2.57509245e-04 2.54692540e-04 2.52348274e-04\n",
      " 2.51521761e-04 2.48776292e-04 2.48608248e-04 2.46440467e-04\n",
      " 2.44469866e-04 2.42714361e-04 2.42312595e-04 2.39556755e-04\n",
      " 2.38447438e-04 2.36856075e-04 2.34198275e-04 2.32942279e-04\n",
      " 2.32282546e-04 2.29932388e-04 2.27696952e-04 2.23353284e-04\n",
      " 2.22340581e-04 2.20509953e-04 2.20003323e-04 2.17445376e-04\n",
      " 2.14782880e-04 2.14318340e-04 2.13092371e-04 2.11423437e-04\n",
      " 2.08719533e-04 2.07074646e-04 2.03776742e-04 2.02998101e-04\n",
      " 2.00625108e-04 1.99825391e-04 1.98015176e-04 1.97741140e-04\n",
      " 1.96697683e-04 1.95685935e-04 1.93588381e-04 1.91381478e-04\n",
      " 1.90483354e-04 1.90294873e-04 1.88487416e-04 1.86560987e-04\n",
      " 1.85100029e-04 1.84537856e-04 1.84165595e-04 1.80524473e-04\n",
      " 1.79931241e-04 1.79699527e-04 1.77386852e-04 1.75529389e-04\n",
      " 1.74040650e-04 1.73710767e-04 1.72943218e-04 1.70752180e-04\n",
      " 1.70294931e-04 1.68537195e-04 1.67999233e-04 1.65880531e-04\n",
      " 1.64739061e-04 1.63645155e-04 1.62852353e-04 1.61858978e-04\n",
      " 1.61225123e-04 1.60365346e-04 1.59130384e-04 1.58701087e-04\n",
      " 1.56614852e-04 1.55950491e-04 1.54713162e-04 1.52601926e-04\n",
      " 1.51995618e-04 1.51396227e-04 1.50566174e-04 1.50067723e-04\n",
      " 1.48095820e-04 1.47483396e-04 1.46249863e-04 1.45217567e-04\n",
      " 1.44770546e-04 1.44258718e-04 1.43812014e-04 1.41778621e-04\n",
      " 1.41009446e-04 1.39433614e-04 1.38558420e-04 1.38222924e-04\n",
      " 1.36883657e-04 1.35749151e-04 1.33859693e-04 1.32210033e-04\n",
      " 1.31908025e-04 1.31079415e-04 1.29466202e-04 1.28776878e-04\n",
      " 1.28593703e-04 1.27590059e-04 1.26561144e-04 1.26063727e-04\n",
      " 1.24056405e-04 1.23050262e-04 1.22469775e-04 1.21555678e-04\n",
      " 1.21016855e-04 1.19833935e-04 1.19118442e-04 1.17917649e-04\n",
      " 1.17068402e-04 1.16643255e-04 1.16291692e-04 1.15563130e-04\n",
      " 1.14777159e-04 1.14021633e-04 1.13572773e-04 1.12407872e-04\n",
      " 1.11897893e-04 1.10473100e-04 1.10201736e-04 1.09369313e-04\n",
      " 1.08440693e-04 1.07108595e-04 1.06135866e-04 1.05998904e-04\n",
      " 1.05220602e-04 1.04708793e-04 1.04315090e-04 1.03527984e-04\n",
      " 1.02154991e-04 1.01653836e-04 1.00787591e-04 1.00391101e-04\n",
      " 9.89726047e-05 9.68615297e-05 9.67314446e-05 9.64618903e-05\n",
      " 9.50807013e-05 9.47674706e-05 9.34255028e-05 9.27435383e-05\n",
      " 9.19429073e-05 9.13260976e-05 9.06628715e-05 8.99211542e-05\n",
      " 8.91247311e-05 8.85345180e-05 8.80038327e-05 8.78740699e-05\n",
      " 8.71494878e-05 8.67864056e-05 8.63807434e-05 8.54785213e-05\n",
      " 8.43436609e-05 8.40361613e-05 8.36816485e-05 8.30395821e-05\n",
      " 8.17187617e-05 8.05721887e-05 8.02995036e-05 7.93964338e-05\n",
      " 7.92528262e-05 7.89843133e-05 7.81031843e-05 7.68041914e-05\n",
      " 7.60738392e-05 7.51312253e-05 7.47630196e-05 7.41270287e-05\n",
      " 7.39167318e-05 7.24482272e-05 7.15845340e-05 7.08813548e-05\n",
      " 7.05150654e-05 6.97971858e-05 6.94304574e-05 6.89927077e-05\n",
      " 6.77029055e-05 6.75900649e-05 6.69384907e-05 6.56451133e-05\n",
      " 6.39660085e-05 6.38359250e-05 6.33550573e-05 6.32613295e-05\n",
      " 6.28139765e-05 6.15591135e-05 6.14966963e-05 6.10349970e-05\n",
      " 5.97728381e-05 5.96266606e-05 5.86240460e-05 5.79189650e-05\n",
      " 5.69691809e-05 5.66383069e-05 5.59212815e-05 5.56309164e-05\n",
      " 5.51375789e-05 5.43486849e-05 5.34923909e-05 5.29282161e-05\n",
      " 5.28086720e-05 5.20220688e-05 5.13107501e-05 5.04895154e-05\n",
      " 5.02954374e-05 4.98470195e-05 4.94600659e-05 4.90033677e-05\n",
      " 4.79484712e-05 4.76153293e-05 4.69856546e-05 4.60374872e-05\n",
      " 4.57150443e-05 4.49775412e-05 4.42452625e-05 4.41815622e-05\n",
      " 4.37870406e-05 4.34603639e-05 4.24204385e-05 4.13006284e-05\n",
      " 4.11641551e-05 4.05487348e-05 3.96035018e-05 3.95723471e-05\n",
      " 3.93934436e-05 3.90031220e-05 3.80357462e-05 3.74715177e-05\n",
      " 3.73563441e-05 3.67537829e-05 3.64345192e-05 3.59487222e-05\n",
      " 3.55046129e-05 3.52972520e-05 3.44162017e-05 3.38566043e-05\n",
      " 3.35385129e-05 3.28771395e-05 3.25011573e-05 3.21091496e-05\n",
      " 3.18296918e-05 3.13387976e-05 3.08107996e-05 3.06890318e-05\n",
      " 3.02141477e-05 2.91821570e-05 2.88098941e-05 2.84685843e-05\n",
      " 2.81615902e-05 2.76392344e-05 2.73265266e-05 2.71468859e-05\n",
      " 2.69323906e-05 2.66279417e-05 2.62112039e-05 2.55339123e-05\n",
      " 2.50806805e-05 2.46065591e-05 2.37843132e-05 2.33573281e-05\n",
      " 2.33200244e-05 2.30655965e-05 2.29980371e-05 2.26409132e-05\n",
      " 2.22326054e-05 2.20595855e-05 2.19683666e-05 2.16226016e-05\n",
      " 2.12476469e-05 2.09162287e-05 2.07119985e-05 1.99595261e-05\n",
      " 1.94396150e-05 1.92616667e-05 1.91540600e-05 1.89530218e-05\n",
      " 1.86354965e-05 1.83805299e-05 1.79901167e-05 1.77727082e-05\n",
      " 1.76429493e-05 1.70770223e-05 1.68842292e-05 1.63906378e-05\n",
      " 1.61650336e-05 1.60349359e-05 1.57104983e-05 1.56181086e-05\n",
      " 1.53801138e-05 1.47745988e-05 1.45346065e-05 1.43162078e-05\n",
      " 1.41924664e-05 1.40242746e-05 1.38219717e-05 1.35499909e-05\n",
      " 1.33904508e-05 1.30129074e-05 1.28835227e-05 1.27485605e-05\n",
      " 1.26382333e-05 1.20419720e-05 1.17210842e-05 1.16266593e-05\n",
      " 1.14836091e-05 1.14342034e-05 1.10879961e-05 1.10207595e-05\n",
      " 1.07612226e-05 1.06682769e-05 1.04730117e-05 1.04037541e-05\n",
      " 1.03755321e-05 1.01804313e-05 9.94427997e-06 9.63148549e-06\n",
      " 9.58207299e-06 9.50817383e-06 9.29885427e-06 9.13310155e-06\n",
      " 8.89719840e-06 8.42851700e-06 8.33420491e-06 8.17688421e-06\n",
      " 8.15569517e-06 8.00399945e-06 7.57432852e-06 7.35384230e-06\n",
      " 7.11738851e-06 6.93255741e-06 6.91729239e-06 6.70993688e-06\n",
      " 6.56506706e-06 6.51668358e-06 6.38533209e-06 6.23049191e-06\n",
      " 6.07267969e-06 5.98229003e-06 5.94415072e-06 5.78341050e-06\n",
      " 5.66570108e-06 5.53890080e-06 5.44777264e-06 5.38938737e-06\n",
      " 5.17844810e-06 4.91535163e-06 4.82187074e-06 4.73081579e-06\n",
      " 4.65330787e-06 4.56071892e-06 4.47666905e-06 4.32231127e-06\n",
      " 4.23447497e-06 4.09758601e-06 4.08630742e-06 3.90102785e-06\n",
      " 3.85174761e-06 3.80253435e-06 3.63346867e-06 3.44945982e-06\n",
      " 3.39264863e-06 3.35175653e-06 3.23418432e-06 3.15914671e-06\n",
      " 3.06427343e-06 3.03579081e-06 2.90027966e-06 2.86945259e-06\n",
      " 2.79141777e-06 2.71920024e-06 2.63400927e-06 2.58005055e-06\n",
      " 2.54072171e-06 2.44231507e-06 2.28968809e-06 2.26677099e-06\n",
      " 2.24657557e-06 2.20196623e-06 2.17815762e-06 2.10390435e-06\n",
      " 2.05577664e-06 1.93773420e-06 1.88268675e-06 1.84382060e-06\n",
      " 1.79301111e-06 1.78140369e-06 1.74640367e-06 1.72308509e-06\n",
      " 1.68544905e-06 1.66763064e-06 1.63540492e-06 1.61771669e-06\n",
      " 1.52329121e-06 1.49206863e-06 1.48484486e-06 1.47534807e-06\n",
      " 1.38492443e-06 1.37556044e-06 1.34501405e-06 1.33274605e-06\n",
      " 1.27730600e-06 1.23082051e-06 1.21040787e-06 1.09906726e-06\n",
      " 1.03657103e-06 1.02350342e-06 9.83245321e-07 9.27904462e-07\n",
      " 8.79460333e-07 8.66814489e-07 8.32882165e-07 8.17398728e-07\n",
      " 8.03730999e-07 7.71277703e-07 7.22935492e-07 6.44579912e-07\n",
      " 6.03025161e-07 5.90299011e-07 5.32209185e-07 5.19482677e-07\n",
      " 5.14305823e-07 4.98641008e-07 4.57354415e-07 4.34589906e-07\n",
      " 4.16971163e-07 4.09247097e-07 3.48648069e-07 3.46773560e-07\n",
      " 3.40484997e-07 3.14115732e-07 2.96658347e-07 2.93904043e-07\n",
      " 2.54914191e-07 2.52310121e-07 2.48424879e-07 1.97794172e-07\n",
      " 1.93630721e-07 1.85187329e-07 1.83855274e-07 1.57955089e-07\n",
      " 1.57626239e-07 1.54328345e-07 1.51743919e-07 1.43843718e-07\n",
      " 1.19839981e-07 1.11795213e-07 1.06872642e-07 7.43579083e-08\n",
      " 6.82768048e-08 6.45182102e-08 6.19044742e-08 6.09809065e-08\n",
      " 5.15176773e-08 3.69015941e-08 3.44942366e-08 2.86928539e-08\n",
      " 2.63236963e-08 2.33284297e-08 1.79266397e-08 4.84776577e-09\n",
      " 3.68795427e-09 1.79054499e-09 1.02650771e-09 1.00495710e-09\n",
      " 2.50154473e-10 2.44527512e-10 2.10208900e-10 1.84867321e-10\n",
      " 1.14110119e-10 4.81457334e-11 1.41940626e-11 4.55514578e-12\n",
      " 1.92780469e-32 7.75177996e-33 6.72754392e-33 5.44393208e-33\n",
      " 4.57936390e-33 3.73928050e-33 3.18854001e-33 2.57709771e-33\n",
      " 2.24133825e-33 2.03499525e-33 1.96891094e-33 1.69970114e-33\n",
      " 1.64579242e-33 1.41049214e-33 1.19598707e-33 1.00649388e-33\n",
      " 8.99966301e-34 8.18159940e-34 5.63676663e-34 4.29215252e-34\n",
      " 4.02131860e-34 3.45100563e-34 3.45100563e-34 3.45100563e-34\n",
      " 3.45100563e-34 3.45100563e-34 3.45100563e-34 3.45100563e-34\n",
      " 3.45100563e-34 3.45100563e-34 3.45100563e-34 3.45100563e-34\n",
      " 3.45100563e-34 3.45100563e-34 3.45100563e-34 3.45100563e-34\n",
      " 3.45100563e-34 3.45100563e-34 3.45100563e-34 3.45100563e-34\n",
      " 3.45100563e-34 3.45100563e-34 3.45100563e-34 3.45100563e-34\n",
      " 3.45100563e-34 3.45100563e-34 3.45100563e-34 3.45100563e-34\n",
      " 3.45100563e-34 3.45100563e-34 3.45100563e-34 3.45100563e-34\n",
      " 3.45100563e-34 3.45100563e-34 3.45100563e-34 3.45100563e-34\n",
      " 3.45100563e-34 3.45100563e-34 3.45100563e-34 3.45100563e-34\n",
      " 3.45100563e-34 3.45100563e-34 3.45100563e-34 3.45100563e-34\n",
      " 3.45100563e-34 3.45100563e-34 3.45100563e-34 3.45100563e-34\n",
      " 3.45100563e-34 3.45100563e-34 3.45100563e-34 3.45100563e-34\n",
      " 3.45100563e-34 3.45100563e-34 3.45100563e-34 3.45100563e-34\n",
      " 3.45100563e-34 3.45100563e-34 3.45100563e-34 3.45100563e-34\n",
      " 3.45100563e-34 3.45100563e-34 3.45100563e-34 3.45100563e-34\n",
      " 3.45100563e-34 3.45100563e-34 3.45100563e-34 3.45100563e-34\n",
      " 3.45100563e-34 3.45100563e-34 3.45100563e-34 3.45100563e-34\n",
      " 3.45100563e-34 3.45100563e-34 3.45100563e-34 3.45100563e-34\n",
      " 3.45100563e-34 3.25767846e-34 3.12948869e-34 2.42130374e-34\n",
      " 1.48171259e-34 7.53038795e-35]\n",
      "[6.32665983e+04 5.40600510e+04 5.04344620e+04 4.69290315e+04\n",
      " 4.51120270e+04 4.23521654e+04 3.66328716e+04 3.48737974e+04\n",
      " 3.37495338e+04 3.14578041e+04 2.96122618e+04 2.87550811e+04\n",
      " 2.64932986e+04 2.61874610e+04 2.54434257e+04 2.47597148e+04\n",
      " 2.33932203e+04 2.28611440e+04 2.21325042e+04 2.19143469e+04\n",
      " 2.10537260e+04 2.02920590e+04 2.00346177e+04 1.93411464e+04\n",
      " 1.91751185e+04 1.84481059e+04 1.81157350e+04 1.80854677e+04\n",
      " 1.74150707e+04 1.68763831e+04 1.66129371e+04 1.62808315e+04\n",
      " 1.59437569e+04 1.55888852e+04 1.53328165e+04 1.48653903e+04\n",
      " 1.45195959e+04 1.41654234e+04 1.40688407e+04 1.39705564e+04\n",
      " 1.37509107e+04 1.34258537e+04 1.32326536e+04 1.28060459e+04\n",
      " 1.25900553e+04 1.23839447e+04 1.22145842e+04 1.21337429e+04\n",
      " 1.18739675e+04 1.16349415e+04 1.14600626e+04 1.13212392e+04\n",
      " 1.10113785e+04 1.08479150e+04 1.06613299e+04 1.05086126e+04\n",
      " 1.04841421e+04 1.03445866e+04 1.01852843e+04 1.01162252e+04\n",
      " 9.91789676e+03 9.79259082e+03 9.68008493e+03 9.41999449e+03\n",
      " 9.40867291e+03 9.30131358e+03 9.19277528e+03 8.98071823e+03\n",
      " 8.93254297e+03 8.77454906e+03 8.68902324e+03 8.67318602e+03\n",
      " 8.53537242e+03 8.50110140e+03 8.28351472e+03 8.18590675e+03\n",
      " 8.13482415e+03 7.95478854e+03 7.83515865e+03 7.71330410e+03\n",
      " 7.59786500e+03 7.58443206e+03 7.53973807e+03 7.44530333e+03\n",
      " 7.42110940e+03 7.33839091e+03 7.25439866e+03 7.18164197e+03\n",
      " 7.11962681e+03 7.04059116e+03 7.00327432e+03 6.89066695e+03\n",
      " 6.85057478e+03 6.74306990e+03 6.69306838e+03 6.64279235e+03\n",
      " 6.51912400e+03 6.47622067e+03 6.42747139e+03 6.38576754e+03\n",
      " 6.33411346e+03 6.30290446e+03 6.25951622e+03 6.09153474e+03\n",
      " 6.06796448e+03 6.01499887e+03 5.97434282e+03 5.91683523e+03\n",
      " 5.88063046e+03 5.85893272e+03 5.70228415e+03 5.67298741e+03\n",
      " 5.65326293e+03 5.61247615e+03 5.59804809e+03 5.58338749e+03\n",
      " 5.53680330e+03 5.45965538e+03 5.41738127e+03 5.39825635e+03\n",
      " 5.34485741e+03 5.33599545e+03 5.29977845e+03 5.27882810e+03\n",
      " 5.23493089e+03 5.16946187e+03 5.12679513e+03 5.08584043e+03\n",
      " 5.04892531e+03 5.00545867e+03 4.95117283e+03 4.94208356e+03\n",
      " 4.90496864e+03 4.86615785e+03 4.85215787e+03 4.80852013e+03\n",
      " 4.77029268e+03 4.73753861e+03 4.69392727e+03 4.65922527e+03\n",
      " 4.61222696e+03 4.60577697e+03 4.54761299e+03 4.53411351e+03\n",
      " 4.51752077e+03 4.48386644e+03 4.47788916e+03 4.44592576e+03\n",
      " 4.43527529e+03 4.40957329e+03 4.37457522e+03 4.32899087e+03\n",
      " 4.31425013e+03 4.27679193e+03 4.27158779e+03 4.24475113e+03\n",
      " 4.22142609e+03 4.18417505e+03 4.17962585e+03 4.14485761e+03\n",
      " 4.12787256e+03 4.09932644e+03 4.07251198e+03 4.05240691e+03\n",
      " 4.02878037e+03 3.98605087e+03 3.97558459e+03 3.95841335e+03\n",
      " 3.94045744e+03 3.91730547e+03 3.90671067e+03 3.88511755e+03\n",
      " 3.85007289e+03 3.83859000e+03 3.79786463e+03 3.79259877e+03\n",
      " 3.78482646e+03 3.76315293e+03 3.72493765e+03 3.70996391e+03\n",
      " 3.70504067e+03 3.68771875e+03 3.68250961e+03 3.66749229e+03\n",
      " 3.65149863e+03 3.62578387e+03 3.61279254e+03 3.59857469e+03\n",
      " 3.58046947e+03 3.56225645e+03 3.56173688e+03 3.55086813e+03\n",
      " 3.51462756e+03 3.50294228e+03 3.48792971e+03 3.47076769e+03\n",
      " 3.45924076e+03 3.44569424e+03 3.42350989e+03 3.41354699e+03\n",
      " 3.39271860e+03 3.37791504e+03 3.35694972e+03 3.33363533e+03\n",
      " 3.31545121e+03 3.30534564e+03 3.29763722e+03 3.28761656e+03\n",
      " 3.27146198e+03 3.25762155e+03 3.23975619e+03 3.22481188e+03\n",
      " 3.21952647e+03 3.20190699e+03 3.20082539e+03 3.18683977e+03\n",
      " 3.17407280e+03 3.16265598e+03 3.16003732e+03 3.14201625e+03\n",
      " 3.13473294e+03 3.12425505e+03 3.10667672e+03 3.09833503e+03\n",
      " 3.09394441e+03 3.07825286e+03 3.06325270e+03 3.03389389e+03\n",
      " 3.02700811e+03 3.01452101e+03 3.01105603e+03 2.99350029e+03\n",
      " 2.97511699e+03 2.97189790e+03 2.96338561e+03 2.95175822e+03\n",
      " 2.93282239e+03 2.92124297e+03 2.89788751e+03 2.89234573e+03\n",
      " 2.87539067e+03 2.86965411e+03 2.85662646e+03 2.85464911e+03\n",
      " 2.84710732e+03 2.83977559e+03 2.82451484e+03 2.80836899e+03\n",
      " 2.80177161e+03 2.80038511e+03 2.78705409e+03 2.77277502e+03\n",
      " 2.76189688e+03 2.75769958e+03 2.75491667e+03 2.72754710e+03\n",
      " 2.72306184e+03 2.72130791e+03 2.70374002e+03 2.68954700e+03\n",
      " 2.67811711e+03 2.67557781e+03 2.66966018e+03 2.65269516e+03\n",
      " 2.64914102e+03 2.63543372e+03 2.63122427e+03 2.61457994e+03\n",
      " 2.60556859e+03 2.59690339e+03 2.59060521e+03 2.58269198e+03\n",
      " 2.57762999e+03 2.57074784e+03 2.56083014e+03 2.55737354e+03\n",
      " 2.54050872e+03 2.53511456e+03 2.52503759e+03 2.50774992e+03\n",
      " 2.50276315e+03 2.49782347e+03 2.49096671e+03 2.48684011e+03\n",
      " 2.47044743e+03 2.46533409e+03 2.45500256e+03 2.44632298e+03\n",
      " 2.44255484e+03 2.43823326e+03 2.43445528e+03 2.41718333e+03\n",
      " 2.41061759e+03 2.39710998e+03 2.38957506e+03 2.38668034e+03\n",
      " 2.37508970e+03 2.36522673e+03 2.34870856e+03 2.33419118e+03\n",
      " 2.33152365e+03 2.32418912e+03 2.30984278e+03 2.30368536e+03\n",
      " 2.30204638e+03 2.29304530e+03 2.28378077e+03 2.27928844e+03\n",
      " 2.26106898e+03 2.25188126e+03 2.24656339e+03 2.23816367e+03\n",
      " 2.23319758e+03 2.22225620e+03 2.21561205e+03 2.20441634e+03\n",
      " 2.19646386e+03 2.19247188e+03 2.18916533e+03 2.18229704e+03\n",
      " 2.17486324e+03 2.16769335e+03 2.16342244e+03 2.15229888e+03\n",
      " 2.14741099e+03 2.13369572e+03 2.13107353e+03 2.12300960e+03\n",
      " 2.11397749e+03 2.10095319e+03 2.09139132e+03 2.09004147e+03\n",
      " 2.08235422e+03 2.07728361e+03 2.07337465e+03 2.06553755e+03\n",
      " 2.05179521e+03 2.04675614e+03 2.03801675e+03 2.03400410e+03\n",
      " 2.01958305e+03 1.99792821e+03 1.99658615e+03 1.99380234e+03\n",
      " 1.97947675e+03 1.97621350e+03 1.96217139e+03 1.95499678e+03\n",
      " 1.94654000e+03 1.93999972e+03 1.93294257e+03 1.92501959e+03\n",
      " 1.91647577e+03 1.91011947e+03 1.90438613e+03 1.90298159e+03\n",
      " 1.89511966e+03 1.89116781e+03 1.88674273e+03 1.87686362e+03\n",
      " 1.86436285e+03 1.86096121e+03 1.85703175e+03 1.84989379e+03\n",
      " 1.83512269e+03 1.82220317e+03 1.81911706e+03 1.80885900e+03\n",
      " 1.80722238e+03 1.80415830e+03 1.79406671e+03 1.77908491e+03\n",
      " 1.77060580e+03 1.75960202e+03 1.75528497e+03 1.74780313e+03\n",
      " 1.74532213e+03 1.72789799e+03 1.71756752e+03 1.70911081e+03\n",
      " 1.70468906e+03 1.69598955e+03 1.69152815e+03 1.68618729e+03\n",
      " 1.67035150e+03 1.66895892e+03 1.66089499e+03 1.64477092e+03\n",
      " 1.62359925e+03 1.62194751e+03 1.61582700e+03 1.61463133e+03\n",
      " 1.60891226e+03 1.59276020e+03 1.59195252e+03 1.58596530e+03\n",
      " 1.56948134e+03 1.56756104e+03 1.55432600e+03 1.54495066e+03\n",
      " 1.53223086e+03 1.52777482e+03 1.51807341e+03 1.51412707e+03\n",
      " 1.50739844e+03 1.49657586e+03 1.48473936e+03 1.47688896e+03\n",
      " 1.47522016e+03 1.46419199e+03 1.45414729e+03 1.44246345e+03\n",
      " 1.43968842e+03 1.43325615e+03 1.42768226e+03 1.42107559e+03\n",
      " 1.40569661e+03 1.40080477e+03 1.39151168e+03 1.37739982e+03\n",
      " 1.37256775e+03 1.36145118e+03 1.35032281e+03 1.34935043e+03\n",
      " 1.34331237e+03 1.33829204e+03 1.32218368e+03 1.30461554e+03\n",
      " 1.30245828e+03 1.29268548e+03 1.27752972e+03 1.27702712e+03\n",
      " 1.27413718e+03 1.26780921e+03 1.25198806e+03 1.24266727e+03\n",
      " 1.24075605e+03 1.23070861e+03 1.22535165e+03 1.21715516e+03\n",
      " 1.20961345e+03 1.20607597e+03 1.19092849e+03 1.18120674e+03\n",
      " 1.17564477e+03 1.16399531e+03 1.15732046e+03 1.15031986e+03\n",
      " 1.14530309e+03 1.13643704e+03 1.12682299e+03 1.12459413e+03\n",
      " 1.11585918e+03 1.09663704e+03 1.08961995e+03 1.08314638e+03\n",
      " 1.07729044e+03 1.06725260e+03 1.06119803e+03 1.05770419e+03\n",
      " 1.05351729e+03 1.04754579e+03 1.03931621e+03 1.02580048e+03\n",
      " 1.01665564e+03 1.00700044e+03 9.90032666e+02 9.81105697e+02\n",
      " 9.80321928e+02 9.74959471e+02 9.73530589e+02 9.65942303e+02\n",
      " 9.57192741e+02 9.53460905e+02 9.51487528e+02 9.43969995e+02\n",
      " 9.35749572e+02 9.28423037e+02 9.23879264e+02 9.06941615e+02\n",
      " 8.95051546e+02 8.90945520e+02 8.88453369e+02 8.83778533e+02\n",
      " 8.76344168e+02 8.70328551e+02 8.61035795e+02 8.55817222e+02\n",
      " 8.52687331e+02 8.38900184e+02 8.34151310e+02 8.21868138e+02\n",
      " 8.16192356e+02 8.12901324e+02 8.04635513e+02 8.02266091e+02\n",
      " 7.96130002e+02 7.80300824e+02 7.73937438e+02 7.68100792e+02\n",
      " 7.64774068e+02 7.60228979e+02 7.54725834e+02 7.47263411e+02\n",
      " 7.42851176e+02 7.32303966e+02 7.28654297e+02 7.24827716e+02\n",
      " 7.21684537e+02 7.04454623e+02 6.95005290e+02 6.92200150e+02\n",
      " 6.87928681e+02 6.86447255e+02 6.75975178e+02 6.73922537e+02\n",
      " 6.65939882e+02 6.63057751e+02 6.56961638e+02 6.54785804e+02\n",
      " 6.53897093e+02 6.47719999e+02 6.40163470e+02 6.30014948e+02\n",
      " 6.28396784e+02 6.25968924e+02 6.19040321e+02 6.13498295e+02\n",
      " 6.05523293e+02 5.89358838e+02 5.86052204e+02 5.80494542e+02\n",
      " 5.79741926e+02 5.74325027e+02 5.58696931e+02 5.50505133e+02\n",
      " 5.41582413e+02 5.34503993e+02 5.33915198e+02 5.25851884e+02\n",
      " 5.20144248e+02 5.18224014e+02 5.12974718e+02 5.06716895e+02\n",
      " 5.00258416e+02 4.96521374e+02 4.94936090e+02 4.88198259e+02\n",
      " 4.83204584e+02 4.77766847e+02 4.73820344e+02 4.71274473e+02\n",
      " 4.61959636e+02 4.50071499e+02 4.45771192e+02 4.41542219e+02\n",
      " 4.37910249e+02 4.33531711e+02 4.29518339e+02 4.22048379e+02\n",
      " 4.17738018e+02 4.10930386e+02 4.10364454e+02 4.00953254e+02\n",
      " 3.98412658e+02 3.95859243e+02 3.86958977e+02 3.77033346e+02\n",
      " 3.73915663e+02 3.71655401e+02 3.65078788e+02 3.60818764e+02\n",
      " 3.55359536e+02 3.53704136e+02 3.45719722e+02 3.43877487e+02\n",
      " 3.39169379e+02 3.34753257e+02 3.29467717e+02 3.26075616e+02\n",
      " 3.23580816e+02 3.17252506e+02 3.07179606e+02 3.05638486e+02\n",
      " 3.04273922e+02 3.01237853e+02 2.99604870e+02 2.94453833e+02\n",
      " 2.91066471e+02 2.82586441e+02 2.78543642e+02 2.75653524e+02\n",
      " 2.71828949e+02 2.70947651e+02 2.68272733e+02 2.66475680e+02\n",
      " 2.63549399e+02 2.62152588e+02 2.59607280e+02 2.58199531e+02\n",
      " 2.50550737e+02 2.47969700e+02 2.47368706e+02 2.46576375e+02\n",
      " 2.38900608e+02 2.38091590e+02 2.35433157e+02 2.34356994e+02\n",
      " 2.29430786e+02 2.25217213e+02 2.23341838e+02 2.12821918e+02\n",
      " 2.06682521e+02 2.05375609e+02 2.01296007e+02 1.95549112e+02\n",
      " 1.90376064e+02 1.89002391e+02 1.85266116e+02 1.83535972e+02\n",
      " 1.81995050e+02 1.78282865e+02 1.72605246e+02 1.62983110e+02\n",
      " 1.57641999e+02 1.55969703e+02 1.48096706e+02 1.46315303e+02\n",
      " 1.45584432e+02 1.43350170e+02 1.37287392e+02 1.33827090e+02\n",
      " 1.31086276e+02 1.29866465e+02 1.19866507e+02 1.19543841e+02\n",
      " 1.18454948e+02 1.13775581e+02 1.10568776e+02 1.10054295e+02\n",
      " 1.02494656e+02 1.01969796e+02 1.01181651e+02 9.02840353e+01\n",
      " 8.93287688e+01 8.73594419e+01 8.70446860e+01 8.06809547e+01\n",
      " 8.05969253e+01 7.97493342e+01 7.90787624e+01 7.69927208e+01\n",
      " 7.02756842e+01 6.78759343e+01 6.63647541e+01 5.53563949e+01\n",
      " 5.30445551e+01 5.15638542e+01 5.05085890e+01 5.01303982e+01\n",
      " 4.60768046e+01 3.89966033e+01 3.77031370e+01 3.43867468e+01\n",
      " 3.29365156e+01 3.10060876e+01 2.71802635e+01 1.41343236e+01\n",
      " 1.23281236e+01 8.59007263e+00 6.50407175e+00 6.43543602e+00\n",
      " 3.21076377e+00 3.17444700e+00 2.94326771e+00 2.76016021e+00\n",
      " 2.16853430e+00 1.40858520e+00 7.64817073e-01 4.33266745e-01\n",
      " 2.81861483e-11 1.78733078e-11 1.66506997e-11 1.49782324e-11\n",
      " 1.37374712e-11 1.24136141e-11 1.14630491e-11 1.03055140e-11\n",
      " 9.61076412e-12 9.15768954e-12 9.00776925e-12 8.36932628e-12\n",
      " 8.23553365e-12 7.62411699e-12 7.02049056e-12 6.44035469e-12\n",
      " 6.09000067e-12 5.80661889e-12 4.81969154e-12 4.20573389e-12\n",
      " 4.07088147e-12 3.77117817e-12 3.77117817e-12 3.77117817e-12\n",
      " 3.77117817e-12 3.77117817e-12 3.77117817e-12 3.77117817e-12\n",
      " 3.77117817e-12 3.77117817e-12 3.77117817e-12 3.77117817e-12\n",
      " 3.77117817e-12 3.77117817e-12 3.77117817e-12 3.77117817e-12\n",
      " 3.77117817e-12 3.77117817e-12 3.77117817e-12 3.77117817e-12\n",
      " 3.77117817e-12 3.77117817e-12 3.77117817e-12 3.77117817e-12\n",
      " 3.77117817e-12 3.77117817e-12 3.77117817e-12 3.77117817e-12\n",
      " 3.77117817e-12 3.77117817e-12 3.77117817e-12 3.77117817e-12\n",
      " 3.77117817e-12 3.77117817e-12 3.77117817e-12 3.77117817e-12\n",
      " 3.77117817e-12 3.77117817e-12 3.77117817e-12 3.77117817e-12\n",
      " 3.77117817e-12 3.77117817e-12 3.77117817e-12 3.77117817e-12\n",
      " 3.77117817e-12 3.77117817e-12 3.77117817e-12 3.77117817e-12\n",
      " 3.77117817e-12 3.77117817e-12 3.77117817e-12 3.77117817e-12\n",
      " 3.77117817e-12 3.77117817e-12 3.77117817e-12 3.77117817e-12\n",
      " 3.77117817e-12 3.77117817e-12 3.77117817e-12 3.77117817e-12\n",
      " 3.77117817e-12 3.77117817e-12 3.77117817e-12 3.77117817e-12\n",
      " 3.77117817e-12 3.77117817e-12 3.77117817e-12 3.77117817e-12\n",
      " 3.77117817e-12 3.77117817e-12 3.77117817e-12 3.77117817e-12\n",
      " 3.77117817e-12 3.77117817e-12 3.77117817e-12 3.77117817e-12\n",
      " 3.77117817e-12 3.66402413e-12 3.59121089e-12 3.15884891e-12\n",
      " 2.47107657e-12 1.76162268e-12]\n"
     ]
    },
    {
     "data": {
      "application/vnd.google.colaboratory.intrinsic+json": {
       "type": "string"
      },
      "text/plain": [
       "\"\\npca = PCA(n_components=300)\\n  \\npca.fit(new_train_X)\\nX_train_pca = pca.transform(new_train_X)\\nX_test_pca = pca.transform(test_X)\\nprint(X_train_pca.shape)\\nprint(X_test_pca.shape)\\nclf=SVC(kernel='poly', degree=3, gamma=1,C=1)\\nclf.fit(X_train_pca, new_train_y)\\ny_pred = clf.predict(X_test_pca)\\nscore=((accuracy_score(test_y, y_pred)))\\nprint(score)\\n\""
      ]
     },
     "execution_count": 17,
     "metadata": {},
     "output_type": "execute_result"
    }
   ],
   "source": [
    "import numpy as np\n",
    "from sklearn.decomposition import PCA\n",
    "k=np.arange(100, 784,2, dtype=int)\n",
    "scores=[]\n",
    "\n",
    "for i in k:\n",
    "  print(i)\n",
    "  pca = PCA(n_components=i)\n",
    "  pca.fit(new_train_X)\n",
    "  X_train_pca = pca.transform(new_train_X)\n",
    "  X_test_pca = pca.transform(test_X)\n",
    "  clf=SVC(kernel='poly', degree=3, gamma=1,C=1)\n",
    "  clf.fit(X_train_pca, new_train_y)\n",
    "  y_pred = clf.predict(X_test_pca)\n",
    "  scores.append((accuracy_score(test_y, y_pred)))\n",
    "  \n",
    "print(pca.explained_variance_ratio_)\n",
    "print(pca.singular_values_)\n"
   ]
  },
  {
   "cell_type": "markdown",
   "metadata": {},
   "source": [
    "# Print scores"
   ]
  },
  {
   "cell_type": "code",
   "execution_count": null,
   "metadata": {
    "colab": {
     "base_uri": "https://localhost:8080/"
    },
    "id": "mlIRBTCJKalR",
    "outputId": "2f93588b-2670-4b0c-e1be-fba4e7d81fa0"
   },
   "outputs": [
    {
     "name": "stdout",
     "output_type": "stream",
     "text": [
      "[0.9743, 0.9737, 0.974, 0.9739, 0.9745, 0.974, 0.9743, 0.9743, 0.974, 0.9742, 0.9742, 0.9747, 0.9744, 0.9745, 0.9743, 0.9749, 0.9746, 0.9746, 0.9749, 0.9746, 0.9743, 0.9746, 0.9747, 0.9747, 0.9746, 0.9743, 0.975, 0.9746, 0.9749, 0.9747, 0.9747, 0.9746, 0.9747, 0.9746, 0.9749, 0.9749, 0.9748, 0.9745, 0.9747, 0.975, 0.9748, 0.9747, 0.9752, 0.975, 0.9749, 0.9751, 0.9749, 0.9753, 0.9753, 0.9749, 0.9755, 0.9754, 0.9755, 0.9752, 0.975, 0.9753, 0.975, 0.9752, 0.9754, 0.9754, 0.9754, 0.9753, 0.9753, 0.9754, 0.9751, 0.9754, 0.9754, 0.9752, 0.9752, 0.975, 0.9752, 0.9751, 0.9752, 0.9753, 0.975, 0.9752, 0.975, 0.9752, 0.9751, 0.975, 0.9753, 0.9749, 0.9753, 0.9751, 0.9753, 0.9751, 0.9754, 0.9754, 0.9754, 0.9756, 0.9753, 0.9754, 0.9754, 0.9754, 0.9754, 0.9753, 0.9755, 0.9753, 0.9754, 0.9754, 0.9756, 0.9753, 0.9752, 0.9752, 0.9752, 0.9753, 0.9754, 0.9754, 0.9753, 0.9753, 0.9753, 0.9753, 0.9753, 0.9753, 0.9755, 0.9753, 0.9752, 0.9754, 0.9753, 0.9753, 0.975, 0.9752, 0.9753, 0.9753, 0.9753, 0.975, 0.9755, 0.9751, 0.975, 0.9752, 0.9752, 0.9752, 0.9753, 0.9753, 0.975, 0.9752, 0.9753, 0.9752, 0.9752, 0.9752, 0.975, 0.9752, 0.9752, 0.9753, 0.9749, 0.9753, 0.9751, 0.9752, 0.9753, 0.9751, 0.9752, 0.9751, 0.9752, 0.9751, 0.9752, 0.9753, 0.9752, 0.9752, 0.9752, 0.9752, 0.9752, 0.9752, 0.9753, 0.9752, 0.9754, 0.9754, 0.9754, 0.9754, 0.9753, 0.9754, 0.9753, 0.9754, 0.9753, 0.9754, 0.9754, 0.9754, 0.9754, 0.9754, 0.9754, 0.9754, 0.9753, 0.9752, 0.9752, 0.9753, 0.9752, 0.9752, 0.9752, 0.9752, 0.9752, 0.9752, 0.9752, 0.9752, 0.9752, 0.9752, 0.9752, 0.9752, 0.9752, 0.9752, 0.9752, 0.9752, 0.9752, 0.9752, 0.9752, 0.9752, 0.9752, 0.9752, 0.9752, 0.9752, 0.9752, 0.9752, 0.9752, 0.9752, 0.9752, 0.9752, 0.9752, 0.9752, 0.9752, 0.9752, 0.9752, 0.9752, 0.9752, 0.9752, 0.9752, 0.9752, 0.9752, 0.9752, 0.9752, 0.9752, 0.9752, 0.9752, 0.9752, 0.9752, 0.9752, 0.9752, 0.9752, 0.9752, 0.9752, 0.9752, 0.9752, 0.9751, 0.9752, 0.9752, 0.9752, 0.9752, 0.9751, 0.9751, 0.9751, 0.9751, 0.9751, 0.9752, 0.9751, 0.9751, 0.9752, 0.9751, 0.9751, 0.9751, 0.9751, 0.9751, 0.9751, 0.9751, 0.9751, 0.9751, 0.9751, 0.9751, 0.9751, 0.9751, 0.9751, 0.9751, 0.9751, 0.9751, 0.9751, 0.9751, 0.9751, 0.9751, 0.9751, 0.9751, 0.9751, 0.9751, 0.9751, 0.9751, 0.9751, 0.9751, 0.9751, 0.9751, 0.9751, 0.9751, 0.9751, 0.9751, 0.9751, 0.9751, 0.9751, 0.9751, 0.9751, 0.9751, 0.9751, 0.9751, 0.9751, 0.9751, 0.9751, 0.9751, 0.9751, 0.9751, 0.9751, 0.9751, 0.9751, 0.9751, 0.9751, 0.9751, 0.9751, 0.9751, 0.9751, 0.9751, 0.9751, 0.9751, 0.9751, 0.9751, 0.9751, 0.9751, 0.9751, 0.9751, 0.9751, 0.9751, 0.9751, 0.9751, 0.9751, 0.9751, 0.9751, 0.9751, 0.9751, 0.9751, 0.9751, 0.9751, 0.9751, 0.9751, 0.9751, 0.9751, 0.9751, 0.9751, 0.9751, 0.9751, 0.9751, 0.9751]\n"
     ]
    }
   ],
   "source": [
    "print(scores)"
   ]
  },
  {
   "cell_type": "markdown",
   "metadata": {},
   "source": [
    "# print max scores"
   ]
  },
  {
   "cell_type": "code",
   "execution_count": null,
   "metadata": {
    "colab": {
     "base_uri": "https://localhost:8080/"
    },
    "id": "X2DX1JUaw9-I",
    "outputId": "f5fc8dcd-02f4-4877-bcd5-5576e586d509"
   },
   "outputs": [
    {
     "name": "stdout",
     "output_type": "stream",
     "text": [
      "0.9756\n"
     ]
    }
   ],
   "source": [
    "print(max(scores))"
   ]
  },
  {
   "cell_type": "markdown",
   "metadata": {},
   "source": [
    "# plot (k,scores) graph "
   ]
  },
  {
   "cell_type": "code",
   "execution_count": null,
   "metadata": {
    "colab": {
     "base_uri": "https://localhost:8080/",
     "height": 265
    },
    "id": "ela-B8-IQVQ6",
    "outputId": "a184b2a9-d307-4fac-a485-1d43b6dc73ac"
   },
   "outputs": [
    {
     "data": {
      "image/png": "[encoded data removed]",
      "text/plain": [
       "<Figure size 432x288 with 1 Axes>"
      ]
     },
     "metadata": {
      "needs_background": "light"
     },
     "output_type": "display_data"
    }
   ],
   "source": [
    "plt.plot(k,scores)\n",
    "plt.show()"
   ]
  },
  {
   "cell_type": "markdown",
   "metadata": {},
   "source": [
    "# SVM + LDA"
   ]
  },
  {
   "cell_type": "code",
   "execution_count": null,
   "metadata": {
    "colab": {
     "base_uri": "https://localhost:8080/"
    },
    "id": "5lqkC5nq6zSA",
    "outputId": "b6ad51c8-d35c-4a73-db98-4ec51749518f"
   },
   "outputs": [
    {
     "name": "stdout",
     "output_type": "stream",
     "text": [
      "(12000, 1)\n",
      "(10000, 1)\n"
     ]
    }
   ],
   "source": [
    "import matplotlib.pyplot as plt\n",
    "\n",
    "from sklearn import datasets\n",
    "\n",
    "from sklearn.discriminant_analysis import LinearDiscriminantAnalysis\n",
    "\n",
    "lda = LinearDiscriminantAnalysis(n_components=1)\n",
    "x_train_lda = lda.fit(new_train_X, new_train_y).transform(new_train_X)\n",
    "x_test_lda=lda.fit(test_X, test_y).transform(test_X)\n",
    "print(x_train_lda.shape)\n",
    "print(x_test_lda.shape)\n",
    "clf=SVC(kernel='poly',degree=3, gamma=1,C=1)\n",
    "clf.fit(x_train_lda, new_train_y)\n",
    "y_pred = clf.predict(x_test_lda)\n",
    "score=(accuracy_score(test_y, y_pred))"
   ]
  },
  {
   "cell_type": "markdown",
   "metadata": {},
   "source": [
    "# print score"
   ]
  },
  {
   "cell_type": "code",
   "execution_count": null,
   "metadata": {
    "colab": {
     "base_uri": "https://localhost:8080/"
    },
    "id": "idbV6x0177c_",
    "outputId": "7d984eda-9992-4ced-fecb-55d8b03331e4"
   },
   "outputs": [
    {
     "name": "stdout",
     "output_type": "stream",
     "text": [
      "0.8673\n"
     ]
    }
   ],
   "source": [
    "print(score)"
   ]
  },
  {
   "cell_type": "markdown",
   "metadata": {},
   "source": [
    "# plot the test data after the lda"
   ]
  },
  {
   "cell_type": "code",
   "execution_count": null,
   "metadata": {
    "colab": {
     "base_uri": "https://localhost:8080/",
     "height": 421
    },
    "id": "Bbk6jiJL78oF",
    "outputId": "614a4cc2-1eef-43ee-86c2-3085fc16f291"
   },
   "outputs": [
    {
     "name": "stdout",
     "output_type": "stream",
     "text": [
      "[   0    1    2 ... 9997 9998 9999]\n",
      "[[ 1.483668  ]\n",
      " [-1.56859582]\n",
      " [-1.69281518]\n",
      " ...\n",
      " [ 1.25286261]\n",
      " [ 1.61709154]\n",
      " [ 2.24776606]]\n"
     ]
    },
    {
     "data": {
      "text/plain": [
       "<matplotlib.collections.PathCollection at 0x7ff867ddad90>"
      ]
     },
     "execution_count": 27,
     "metadata": {},
     "output_type": "execute_result"
    },
    {
     "data": {
      "image/png": "[encoded data removed]",
      "text/plain": [
       "<Figure size 432x288 with 1 Axes>"
      ]
     },
     "metadata": {
      "needs_background": "light"
     },
     "output_type": "display_data"
    }
   ],
   "source": [
    "import seaborn as sns\n",
    "vec=np.arange(0, 10000,1, dtype=int)\n",
    "print(vec)\n",
    "print(x_test_lda)\n",
    "color= ['red' if i == 0 else 'green' for i in test_y]\n",
    "plt.scatter(vec, x_test_lda, color=color)"
   ]
  },
  {
   "cell_type": "markdown",
   "metadata": {},
   "source": [
    "# SVM + LDA + PCA"
   ]
  },
  {
   "cell_type": "code",
   "execution_count": null,
   "metadata": {
    "colab": {
     "base_uri": "https://localhost:8080/"
    },
    "id": "0qGfE67KADoT",
    "outputId": "3ade3345-b2fc-4df1-f3ea-a146d2f98290"
   },
   "outputs": [
    {
     "name": "stdout",
     "output_type": "stream",
     "text": [
      "(12000, 784)\n",
      "(10000, 784)\n",
      "1\n",
      "31\n",
      "61\n",
      "91\n",
      "121\n",
      "151\n",
      "181\n",
      "211\n",
      "241\n",
      "271\n",
      "301\n",
      "331\n",
      "361\n",
      "391\n",
      "421\n",
      "451\n",
      "481\n",
      "511\n",
      "541\n",
      "571\n",
      "601\n",
      "631\n",
      "661\n",
      "691\n",
      "721\n",
      "751\n",
      "781\n"
     ]
    }
   ],
   "source": [
    "import matplotlib.pyplot as plt\n",
    "\n",
    "from sklearn import datasets\n",
    "from sklearn.decomposition import PCA\n",
    "from sklearn.discriminant_analysis import LinearDiscriminantAnalysis\n",
    "k_new=np.arange(1,784,30)\n",
    "print(new_train_X.shape)\n",
    "print(test_X.shape)\n",
    "scores=[]\n",
    "for i in k_new:\n",
    "\n",
    "  print(i)\n",
    "  pca = PCA(n_components=i)\n",
    "  pca.fit(new_train_X)\n",
    "  X_train_pca = pca.transform(new_train_X)\n",
    "  X_test_pca = pca.transform(test_X)\n",
    "\n",
    "\n",
    "  lda = LinearDiscriminantAnalysis(n_components=1)\n",
    "  x_train_pca_lda = lda.fit(X_train_pca, new_train_y).transform(X_train_pca)\n",
    "  x_test_pca_lda=lda.fit(X_test_pca, test_y).transform(X_test_pca)\n",
    "  \n",
    "  clf=SVC(kernel='poly',degree=3, gamma=1,C=1)\n",
    "  clf.fit(x_train_pca_lda, new_train_y)\n",
    "  y_pred = clf.predict(x_test_pca_lda)\n",
    "  scores.append((accuracy_score(test_y, y_pred)))"
   ]
  },
  {
   "cell_type": "markdown",
   "metadata": {},
   "source": [
    "# print the scores"
   ]
  },
  {
   "cell_type": "code",
   "execution_count": null,
   "metadata": {
    "colab": {
     "base_uri": "https://localhost:8080/"
    },
    "id": "4lugFc1yXk2K",
    "outputId": "0370d2ea-4bd2-4ccc-96a9-ab01da2f92ea"
   },
   "outputs": [
    {
     "name": "stdout",
     "output_type": "stream",
     "text": [
      "[0.5139, 0.8051, 0.8217, 0.8393, 0.843, 0.8495, 0.8559, 0.8553, 0.8589, 0.8583, 0.8583, 0.8558, 0.8589, 0.8608, 0.8635, 0.8619, 0.8652, 0.8652, 0.8663, 0.8674, 0.8651, 0.8678, 0.8676, 0.8673, 0.8673, 0.8673, 0.8673]\n"
     ]
    }
   ],
   "source": [
    "print(scores)"
   ]
  },
  {
   "cell_type": "markdown",
   "metadata": {},
   "source": [
    "# print the max score"
   ]
  },
  {
   "cell_type": "code",
   "execution_count": null,
   "metadata": {
    "colab": {
     "base_uri": "https://localhost:8080/"
    },
    "id": "Q8O5uJI1Xmue",
    "outputId": "c4992b36-e67f-47dd-a68f-0f4a20dea829"
   },
   "outputs": [
    {
     "name": "stdout",
     "output_type": "stream",
     "text": [
      "0.8678\n"
     ]
    }
   ],
   "source": [
    "print(max(scores))"
   ]
  },
  {
   "cell_type": "code",
   "execution_count": null,
   "metadata": {
    "colab": {
     "base_uri": "https://localhost:8080/"
    },
    "id": "yzUMzyBMXtm_",
    "outputId": "ce0082d1-5c53-422a-a05c-073a13242e7f"
   },
   "outputs": [
    {
     "name": "stdout",
     "output_type": "stream",
     "text": [
      "(12000, 1)\n",
      "(10000, 1)\n"
     ]
    }
   ],
   "source": [
    "print(x_train_pca_lda.shape)\n",
    "print(x_test_pca_lda.shape)"
   ]
  }
 ],
 "metadata": {
  "colab": {
   "collapsed_sections": [],
   "name": "pattern_rec_project2",
   "provenance": []
  },
  "kernelspec": {
   "display_name": "Python 3 (ipykernel)",
   "language": "python",
   "name": "python3"
  },
  "language_info": {
   "codemirror_mode": {
    "name": "ipython",
    "version": 3
   },
   "file_extension": ".py",
   "mimetype": "text/x-python",
   "name": "python",
   "nbconvert_exporter": "python",
   "pygments_lexer": "ipython3",
   "version": "3.8.5"
  }
 },
 "nbformat": 4,
 "nbformat_minor": 1
}
